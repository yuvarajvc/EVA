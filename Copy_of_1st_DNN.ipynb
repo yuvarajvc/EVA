{
  "nbformat": 4,
  "nbformat_minor": 0,
  "metadata": {
    "colab": {
      "name": "Copy of 1st DNN.ipynb",
      "version": "0.3.2",
      "provenance": [],
      "collapsed_sections": []
    },
    "kernelspec": {
      "name": "python3",
      "display_name": "Python 3"
    },
    "accelerator": "GPU"
  },
  "cells": [
    {
      "cell_type": "markdown",
      "metadata": {
        "id": "aNyZv-Ec52ot",
        "colab_type": "text"
      },
      "source": [
        "# **Import Libraries and modules**"
      ]
    },
    {
      "cell_type": "code",
      "metadata": {
        "id": "3m3w1Cw49Zkt",
        "colab_type": "code",
        "colab": {
          "base_uri": "https://localhost:8080/",
          "height": 34
        },
        "outputId": "915aa515-35ff-4bc6-9dac-e0e2eef86457"
      },
      "source": [
        "# https://keras.io/\n",
        "!pip install -q keras\n",
        "import keras"
      ],
      "execution_count": 1,
      "outputs": [
        {
          "output_type": "stream",
          "text": [
            "Using TensorFlow backend.\n"
          ],
          "name": "stderr"
        }
      ]
    },
    {
      "cell_type": "markdown",
      "metadata": {
        "id": "Nr7ZWHSm-oWJ",
        "colab_type": "text"
      },
      "source": [
        "intalling the tensor flow"
      ]
    },
    {
      "cell_type": "code",
      "metadata": {
        "id": "Eso6UHE080D4",
        "colab_type": "code",
        "colab": {}
      },
      "source": [
        "import numpy as np\n",
        "\n",
        "from keras.models import Sequential\n",
        "from keras.layers import Dense, Dropout, Activation, Flatten, Add\n",
        "from keras.layers import Convolution2D, MaxPooling2D\n",
        "from keras.utils import np_utils\n",
        "\n",
        "from keras.datasets import mnist"
      ],
      "execution_count": 0,
      "outputs": []
    },
    {
      "cell_type": "markdown",
      "metadata": {
        "id": "F7tu9sow-rYq",
        "colab_type": "text"
      },
      "source": [
        "importing the numerical functions and other keras models and layers.\n",
        "from keras getting the mnist dataset"
      ]
    },
    {
      "cell_type": "markdown",
      "metadata": {
        "id": "zByEi95J86RD",
        "colab_type": "text"
      },
      "source": [
        "### Load pre-shuffled MNIST data into train and test sets"
      ]
    },
    {
      "cell_type": "code",
      "metadata": {
        "id": "7eRM0QWN83PV",
        "colab_type": "code",
        "colab": {}
      },
      "source": [
        "(X_train, y_train), (X_test, y_test) = mnist.load_data()"
      ],
      "execution_count": 0,
      "outputs": []
    },
    {
      "cell_type": "markdown",
      "metadata": {
        "id": "GQYXL5N7-8ci",
        "colab_type": "text"
      },
      "source": [
        "load the dataset into train and test"
      ]
    },
    {
      "cell_type": "code",
      "metadata": {
        "id": "4a4Be72j8-ZC",
        "colab_type": "code",
        "outputId": "84f2a22f-fe5e-4837-881a-207e8dc09d12",
        "colab": {
          "base_uri": "https://localhost:8080/",
          "height": 303
        }
      },
      "source": [
        "print (X_train.shape)\n",
        "from matplotlib import pyplot as plt\n",
        "%matplotlib inline\n",
        "plt.imshow(X_train[0])"
      ],
      "execution_count": 5,
      "outputs": [
        {
          "output_type": "stream",
          "text": [
            "(60000, 28, 28)\n"
          ],
          "name": "stdout"
        },
        {
          "output_type": "execute_result",
          "data": {
            "text/plain": [
              "<matplotlib.image.AxesImage at 0x7f10f60179b0>"
            ]
          },
          "metadata": {
            "tags": []
          },
          "execution_count": 5
        },
        {
          "output_type": "display_data",
          "data": {
            "image/png": "[encoded data removed]",
            "text/plain": [
              "<Figure size 432x288 with 1 Axes>"
            ]
          },
          "metadata": {
            "tags": []
          }
        }
      ]
    },
    {
      "cell_type": "markdown",
      "metadata": {
        "id": "sNv-Q16p_ARZ",
        "colab_type": "text"
      },
      "source": [
        "plot the 1st train value from the array using matplotlib"
      ]
    },
    {
      "cell_type": "code",
      "metadata": {
        "id": "dkmprriw9AnZ",
        "colab_type": "code",
        "colab": {}
      },
      "source": [
        "X_train = X_train.reshape(X_train.shape[0], 28, 28,1)\n",
        "X_test = X_test.reshape(X_test.shape[0], 28, 28,1)"
      ],
      "execution_count": 0,
      "outputs": []
    },
    {
      "cell_type": "markdown",
      "metadata": {
        "id": "8eBTUlCv_PHj",
        "colab_type": "text"
      },
      "source": [
        "reshape the train and test to 28 * 28 * 1"
      ]
    },
    {
      "cell_type": "code",
      "metadata": {
        "id": "X2m4YS4E9CRh",
        "colab_type": "code",
        "colab": {}
      },
      "source": [
        "X_train = X_train.astype('float32')\n",
        "X_test = X_test.astype('float32')\n",
        "X_train /= 255\n",
        "X_test /= 255"
      ],
      "execution_count": 0,
      "outputs": []
    },
    {
      "cell_type": "markdown",
      "metadata": {
        "id": "wshF1eh9_YKW",
        "colab_type": "text"
      },
      "source": [
        "convert them into float and do the normalization"
      ]
    },
    {
      "cell_type": "code",
      "metadata": {
        "id": "0Mn0vAYD9DvB",
        "colab_type": "code",
        "outputId": "d6b32ff7-1068-46fa-cc61-03ca4dbc7cf6",
        "colab": {
          "base_uri": "https://localhost:8080/",
          "height": 34
        }
      },
      "source": [
        "y_train[:10]"
      ],
      "execution_count": 8,
      "outputs": [
        {
          "output_type": "execute_result",
          "data": {
            "text/plain": [
              "array([5, 0, 4, 1, 9, 2, 1, 3, 1, 4], dtype=uint8)"
            ]
          },
          "metadata": {
            "tags": []
          },
          "execution_count": 8
        }
      ]
    },
    {
      "cell_type": "code",
      "metadata": {
        "id": "ZG8JiXR39FHC",
        "colab_type": "code",
        "colab": {}
      },
      "source": [
        "# Convert 1-dimensional class arrays to 10-dimensional class matrices\n",
        "Y_train = np_utils.to_categorical(y_train, 10)\n",
        "Y_test = np_utils.to_categorical(y_test, 10)"
      ],
      "execution_count": 0,
      "outputs": []
    },
    {
      "cell_type": "code",
      "metadata": {
        "id": "fYlFRvKS9HMB",
        "colab_type": "code",
        "outputId": "9b58491b-2b06-4e72-b979-274b074c344f",
        "colab": {
          "base_uri": "https://localhost:8080/",
          "height": 187
        }
      },
      "source": [
        "Y_train[:10]\n"
      ],
      "execution_count": 10,
      "outputs": [
        {
          "output_type": "execute_result",
          "data": {
            "text/plain": [
              "array([[0., 0., 0., 0., 0., 1., 0., 0., 0., 0.],\n",
              "       [1., 0., 0., 0., 0., 0., 0., 0., 0., 0.],\n",
              "       [0., 0., 0., 0., 1., 0., 0., 0., 0., 0.],\n",
              "       [0., 1., 0., 0., 0., 0., 0., 0., 0., 0.],\n",
              "       [0., 0., 0., 0., 0., 0., 0., 0., 0., 1.],\n",
              "       [0., 0., 1., 0., 0., 0., 0., 0., 0., 0.],\n",
              "       [0., 1., 0., 0., 0., 0., 0., 0., 0., 0.],\n",
              "       [0., 0., 0., 1., 0., 0., 0., 0., 0., 0.],\n",
              "       [0., 1., 0., 0., 0., 0., 0., 0., 0., 0.],\n",
              "       [0., 0., 0., 0., 1., 0., 0., 0., 0., 0.]], dtype=float32)"
            ]
          },
          "metadata": {
            "tags": []
          },
          "execution_count": 10
        }
      ]
    },
    {
      "cell_type": "markdown",
      "metadata": {
        "id": "Kt5aGa7j_h7t",
        "colab_type": "text"
      },
      "source": [
        "getting the class of 10 images/values"
      ]
    },
    {
      "cell_type": "code",
      "metadata": {
        "id": "osKqT73Q9JJB",
        "colab_type": "code",
        "outputId": "e1557889-c759-43f6-ce89-68c9321f502c",
        "colab": {
          "base_uri": "https://localhost:8080/",
          "height": 207
        }
      },
      "source": [
        "from keras.layers import Activation\n",
        "model = Sequential()\n",
        "#26\n",
        "model.add(Convolution2D(32, 3, 3, activation='relu', input_shape=(28,28,1)))\n",
        "#24\n",
        "model.add(Convolution2D(16, 3, 3, activation='relu'))\n",
        "model.add(Convolution2D(16, 1,1, activation='relu'))\n",
        "model.add(MaxPooling2D(pool_size=(2, 2)))\n",
        "model.add(Dropout(0.13))\n",
        "\n",
        "model.add(Convolution2D(16, 3, 3, activation='relu'))\n",
        "\n",
        "model.add(Convolution2D(16, 3, 3, activation='relu'))\n",
        "model.add(MaxPooling2D(pool_size=(2, 2)))\n",
        "model.add(Dropout(0.13))\n",
        "\n",
        "#model.add(Convolution2D(10, 3, 3, activation='relu'))\n",
        "\n",
        "#model.add(Convolution2D(10, 3, 3, activation='relu'))\n",
        "\n",
        "model.add(Convolution2D(10, 4))\n",
        "model.add(Flatten())\n",
        "model.add(Activation('softmax'))"
      ],
      "execution_count": 34,
      "outputs": [
        {
          "output_type": "stream",
          "text": [
            "/usr/local/lib/python3.6/dist-packages/ipykernel_launcher.py:4: UserWarning: Update your `Conv2D` call to the Keras 2 API: `Conv2D(32, (3, 3), activation=\"relu\", input_shape=(28, 28, 1...)`\n",
            "  after removing the cwd from sys.path.\n",
            "/usr/local/lib/python3.6/dist-packages/ipykernel_launcher.py:6: UserWarning: Update your `Conv2D` call to the Keras 2 API: `Conv2D(16, (3, 3), activation=\"relu\")`\n",
            "  \n",
            "/usr/local/lib/python3.6/dist-packages/ipykernel_launcher.py:7: UserWarning: Update your `Conv2D` call to the Keras 2 API: `Conv2D(16, (1, 1), activation=\"relu\")`\n",
            "  import sys\n",
            "/usr/local/lib/python3.6/dist-packages/ipykernel_launcher.py:11: UserWarning: Update your `Conv2D` call to the Keras 2 API: `Conv2D(16, (3, 3), activation=\"relu\")`\n",
            "  # This is added back by InteractiveShellApp.init_path()\n",
            "/usr/local/lib/python3.6/dist-packages/ipykernel_launcher.py:13: UserWarning: Update your `Conv2D` call to the Keras 2 API: `Conv2D(16, (3, 3), activation=\"relu\")`\n",
            "  del sys.path[0]\n"
          ],
          "name": "stderr"
        }
      ]
    },
    {
      "cell_type": "markdown",
      "metadata": {
        "id": "TA2NPGWE_rti",
        "colab_type": "text"
      },
      "source": [
        "followed the pattern/architecture of 2 times convoluation and one max pooling, dropout and one more time the same process \n",
        "then at last we convolve with 4 to get 1 * 1 we didnt use relu at last because we need negative value for backpropagation\n",
        "then flattern the data and do softmax "
      ]
    },
    {
      "cell_type": "code",
      "metadata": {
        "id": "TzdAYg1k9K7Z",
        "colab_type": "code",
        "outputId": "6ee7e2ff-3d91-4448-fe43-c0b7fafb4d23",
        "colab": {
          "base_uri": "https://localhost:8080/",
          "height": 544
        }
      },
      "source": [
        "model.summary()\n"
      ],
      "execution_count": 35,
      "outputs": [
        {
          "output_type": "stream",
          "text": [
            "_________________________________________________________________\n",
            "Layer (type)                 Output Shape              Param #   \n",
            "=================================================================\n",
            "conv2d_61 (Conv2D)           (None, 26, 26, 32)        320       \n",
            "_________________________________________________________________\n",
            "conv2d_62 (Conv2D)           (None, 24, 24, 16)        4624      \n",
            "_________________________________________________________________\n",
            "conv2d_63 (Conv2D)           (None, 24, 24, 16)        272       \n",
            "_________________________________________________________________\n",
            "max_pooling2d_13 (MaxPooling (None, 12, 12, 16)        0         \n",
            "_________________________________________________________________\n",
            "dropout_5 (Dropout)          (None, 12, 12, 16)        0         \n",
            "_________________________________________________________________\n",
            "conv2d_64 (Conv2D)           (None, 10, 10, 16)        2320      \n",
            "_________________________________________________________________\n",
            "conv2d_65 (Conv2D)           (None, 8, 8, 16)          2320      \n",
            "_________________________________________________________________\n",
            "max_pooling2d_14 (MaxPooling (None, 4, 4, 16)          0         \n",
            "_________________________________________________________________\n",
            "dropout_6 (Dropout)          (None, 4, 4, 16)          0         \n",
            "_________________________________________________________________\n",
            "conv2d_66 (Conv2D)           (None, 1, 1, 10)          2570      \n",
            "_________________________________________________________________\n",
            "flatten_7 (Flatten)          (None, 10)                0         \n",
            "_________________________________________________________________\n",
            "activation_7 (Activation)    (None, 10)                0         \n",
            "=================================================================\n",
            "Total params: 12,426\n",
            "Trainable params: 12,426\n",
            "Non-trainable params: 0\n",
            "_________________________________________________________________\n"
          ],
          "name": "stdout"
        }
      ]
    },
    {
      "cell_type": "markdown",
      "metadata": {
        "id": "e76Z7vPbAKHz",
        "colab_type": "text"
      },
      "source": [
        "model summary shows our parameters and other convolutions, dropouts what we have used.\n"
      ]
    },
    {
      "cell_type": "code",
      "metadata": {
        "id": "Zp6SuGrL9M3h",
        "colab_type": "code",
        "colab": {}
      },
      "source": [
        "model.compile(loss='categorical_crossentropy',\n",
        "             optimizer='adam',\n",
        "             metrics=['accuracy'])"
      ],
      "execution_count": 0,
      "outputs": []
    },
    {
      "cell_type": "markdown",
      "metadata": {
        "id": "ySI1ZveGAW0u",
        "colab_type": "text"
      },
      "source": [
        "compile the mode with optimizer and loss"
      ]
    },
    {
      "cell_type": "code",
      "metadata": {
        "id": "4xWoKhPY9Of5",
        "colab_type": "code",
        "outputId": "58d6488d-1f8a-4ac1-9321-6a241d708fac",
        "colab": {
          "base_uri": "https://localhost:8080/",
          "height": 2125
        }
      },
      "source": [
        "model.fit(X_train, Y_train, batch_size=32, nb_epoch=60, verbose=1, validation_data=(X_test,Y_test))"
      ],
      "execution_count": 37,
      "outputs": [
        {
          "output_type": "stream",
          "text": [
            "/usr/local/lib/python3.6/dist-packages/ipykernel_launcher.py:1: UserWarning: The `nb_epoch` argument in `fit` has been renamed `epochs`.\n",
            "  \"\"\"Entry point for launching an IPython kernel.\n"
          ],
          "name": "stderr"
        },
        {
          "output_type": "stream",
          "text": [
            "Train on 60000 samples, validate on 10000 samples\n",
            "Epoch 1/60\n",
            "60000/60000 [==============================] - 22s 367us/step - loss: 0.2249 - acc: 0.9304 - val_loss: 0.0556 - val_acc: 0.9839\n",
            "Epoch 2/60\n",
            "60000/60000 [==============================] - 21s 353us/step - loss: 0.0872 - acc: 0.9732 - val_loss: 0.0418 - val_acc: 0.9862\n",
            "Epoch 3/60\n",
            "60000/60000 [==============================] - 21s 355us/step - loss: 0.0664 - acc: 0.9795 - val_loss: 0.0374 - val_acc: 0.9873\n",
            "Epoch 4/60\n",
            "60000/60000 [==============================] - 21s 353us/step - loss: 0.0531 - acc: 0.9836 - val_loss: 0.0346 - val_acc: 0.9889\n",
            "Epoch 5/60\n",
            "60000/60000 [==============================] - 21s 354us/step - loss: 0.0477 - acc: 0.9851 - val_loss: 0.0318 - val_acc: 0.9902\n",
            "Epoch 6/60\n",
            "60000/60000 [==============================] - 21s 354us/step - loss: 0.0431 - acc: 0.9862 - val_loss: 0.0275 - val_acc: 0.9921\n",
            "Epoch 7/60\n",
            "60000/60000 [==============================] - 21s 353us/step - loss: 0.0379 - acc: 0.9879 - val_loss: 0.0280 - val_acc: 0.9913\n",
            "Epoch 8/60\n",
            "60000/60000 [==============================] - 21s 353us/step - loss: 0.0360 - acc: 0.9888 - val_loss: 0.0273 - val_acc: 0.9907\n",
            "Epoch 9/60\n",
            "60000/60000 [==============================] - 21s 354us/step - loss: 0.0323 - acc: 0.9899 - val_loss: 0.0274 - val_acc: 0.9917\n",
            "Epoch 10/60\n",
            "60000/60000 [==============================] - 21s 354us/step - loss: 0.0322 - acc: 0.9899 - val_loss: 0.0220 - val_acc: 0.9929\n",
            "Epoch 11/60\n",
            "60000/60000 [==============================] - 21s 355us/step - loss: 0.0300 - acc: 0.9904 - val_loss: 0.0214 - val_acc: 0.9938\n",
            "Epoch 12/60\n",
            "60000/60000 [==============================] - 21s 354us/step - loss: 0.0291 - acc: 0.9907 - val_loss: 0.0282 - val_acc: 0.9912\n",
            "Epoch 13/60\n",
            "60000/60000 [==============================] - 21s 354us/step - loss: 0.0278 - acc: 0.9910 - val_loss: 0.0281 - val_acc: 0.9917\n",
            "Epoch 14/60\n",
            "60000/60000 [==============================] - 21s 353us/step - loss: 0.0260 - acc: 0.9913 - val_loss: 0.0249 - val_acc: 0.9925\n",
            "Epoch 15/60\n",
            "60000/60000 [==============================] - 21s 351us/step - loss: 0.0246 - acc: 0.9918 - val_loss: 0.0255 - val_acc: 0.9915\n",
            "Epoch 16/60\n",
            "60000/60000 [==============================] - 21s 352us/step - loss: 0.0241 - acc: 0.9921 - val_loss: 0.0221 - val_acc: 0.9927\n",
            "Epoch 17/60\n",
            "60000/60000 [==============================] - 21s 351us/step - loss: 0.0246 - acc: 0.9924 - val_loss: 0.0235 - val_acc: 0.9925\n",
            "Epoch 18/60\n",
            "60000/60000 [==============================] - 21s 353us/step - loss: 0.0233 - acc: 0.9925 - val_loss: 0.0247 - val_acc: 0.9927\n",
            "Epoch 19/60\n",
            "60000/60000 [==============================] - 21s 354us/step - loss: 0.0222 - acc: 0.9929 - val_loss: 0.0259 - val_acc: 0.9923\n",
            "Epoch 20/60\n",
            "60000/60000 [==============================] - 21s 354us/step - loss: 0.0228 - acc: 0.9925 - val_loss: 0.0222 - val_acc: 0.9929\n",
            "Epoch 21/60\n",
            "60000/60000 [==============================] - 21s 354us/step - loss: 0.0201 - acc: 0.9935 - val_loss: 0.0219 - val_acc: 0.9938\n",
            "Epoch 22/60\n",
            "60000/60000 [==============================] - 21s 354us/step - loss: 0.0199 - acc: 0.9937 - val_loss: 0.0215 - val_acc: 0.9940\n",
            "Epoch 23/60\n",
            "60000/60000 [==============================] - 21s 355us/step - loss: 0.0202 - acc: 0.9932 - val_loss: 0.0246 - val_acc: 0.9924\n",
            "Epoch 24/60\n",
            "60000/60000 [==============================] - 21s 354us/step - loss: 0.0200 - acc: 0.9935 - val_loss: 0.0216 - val_acc: 0.9926\n",
            "Epoch 25/60\n",
            "60000/60000 [==============================] - 21s 354us/step - loss: 0.0187 - acc: 0.9941 - val_loss: 0.0288 - val_acc: 0.9923\n",
            "Epoch 26/60\n",
            "60000/60000 [==============================] - 21s 355us/step - loss: 0.0185 - acc: 0.9940 - val_loss: 0.0273 - val_acc: 0.9930\n",
            "Epoch 27/60\n",
            "60000/60000 [==============================] - 21s 354us/step - loss: 0.0194 - acc: 0.9931 - val_loss: 0.0252 - val_acc: 0.9938\n",
            "Epoch 28/60\n",
            "60000/60000 [==============================] - 21s 354us/step - loss: 0.0177 - acc: 0.9944 - val_loss: 0.0262 - val_acc: 0.9914\n",
            "Epoch 29/60\n",
            "60000/60000 [==============================] - 21s 353us/step - loss: 0.0183 - acc: 0.9941 - val_loss: 0.0256 - val_acc: 0.9922\n",
            "Epoch 30/60\n",
            "60000/60000 [==============================] - 21s 353us/step - loss: 0.0169 - acc: 0.9944 - val_loss: 0.0258 - val_acc: 0.9927\n",
            "Epoch 31/60\n",
            "60000/60000 [==============================] - 21s 353us/step - loss: 0.0176 - acc: 0.9942 - val_loss: 0.0225 - val_acc: 0.9935\n",
            "Epoch 32/60\n",
            "60000/60000 [==============================] - 21s 354us/step - loss: 0.0160 - acc: 0.9952 - val_loss: 0.0276 - val_acc: 0.9926\n",
            "Epoch 33/60\n",
            "60000/60000 [==============================] - 21s 354us/step - loss: 0.0169 - acc: 0.9945 - val_loss: 0.0250 - val_acc: 0.9928\n",
            "Epoch 34/60\n",
            "60000/60000 [==============================] - 21s 353us/step - loss: 0.0164 - acc: 0.9944 - val_loss: 0.0284 - val_acc: 0.9931\n",
            "Epoch 35/60\n",
            "60000/60000 [==============================] - 21s 354us/step - loss: 0.0166 - acc: 0.9944 - val_loss: 0.0291 - val_acc: 0.9919\n",
            "Epoch 36/60\n",
            "60000/60000 [==============================] - 21s 354us/step - loss: 0.0162 - acc: 0.9946 - val_loss: 0.0255 - val_acc: 0.9936\n",
            "Epoch 37/60\n",
            "60000/60000 [==============================] - 21s 354us/step - loss: 0.0156 - acc: 0.9947 - val_loss: 0.0265 - val_acc: 0.9922\n",
            "Epoch 38/60\n",
            "60000/60000 [==============================] - 21s 353us/step - loss: 0.0161 - acc: 0.9945 - val_loss: 0.0238 - val_acc: 0.9941\n",
            "Epoch 39/60\n",
            "60000/60000 [==============================] - 21s 354us/step - loss: 0.0147 - acc: 0.9948 - val_loss: 0.0285 - val_acc: 0.9923\n",
            "Epoch 40/60\n",
            "60000/60000 [==============================] - 21s 355us/step - loss: 0.0145 - acc: 0.9952 - val_loss: 0.0300 - val_acc: 0.9925\n",
            "Epoch 41/60\n",
            "60000/60000 [==============================] - 21s 353us/step - loss: 0.0162 - acc: 0.9948 - val_loss: 0.0260 - val_acc: 0.9930\n",
            "Epoch 42/60\n",
            "60000/60000 [==============================] - 21s 354us/step - loss: 0.0159 - acc: 0.9948 - val_loss: 0.0262 - val_acc: 0.9934\n",
            "Epoch 43/60\n",
            "60000/60000 [==============================] - 21s 354us/step - loss: 0.0138 - acc: 0.9952 - val_loss: 0.0325 - val_acc: 0.9922\n",
            "Epoch 44/60\n",
            "60000/60000 [==============================] - 21s 352us/step - loss: 0.0153 - acc: 0.9948 - val_loss: 0.0269 - val_acc: 0.9937\n",
            "Epoch 45/60\n",
            "60000/60000 [==============================] - 21s 354us/step - loss: 0.0154 - acc: 0.9947 - val_loss: 0.0253 - val_acc: 0.9936\n",
            "Epoch 46/60\n",
            "60000/60000 [==============================] - 21s 354us/step - loss: 0.0141 - acc: 0.9952 - val_loss: 0.0275 - val_acc: 0.9934\n",
            "Epoch 47/60\n",
            "60000/60000 [==============================] - 21s 352us/step - loss: 0.0139 - acc: 0.9953 - val_loss: 0.0272 - val_acc: 0.9930\n",
            "Epoch 48/60\n",
            "60000/60000 [==============================] - 21s 354us/step - loss: 0.0151 - acc: 0.9951 - val_loss: 0.0257 - val_acc: 0.9936\n",
            "Epoch 49/60\n",
            "60000/60000 [==============================] - 21s 354us/step - loss: 0.0138 - acc: 0.9953 - val_loss: 0.0305 - val_acc: 0.9933\n",
            "Epoch 50/60\n",
            "60000/60000 [==============================] - 21s 353us/step - loss: 0.0146 - acc: 0.9950 - val_loss: 0.0322 - val_acc: 0.9920\n",
            "Epoch 51/60\n",
            "60000/60000 [==============================] - 21s 354us/step - loss: 0.0138 - acc: 0.9956 - val_loss: 0.0295 - val_acc: 0.9930\n",
            "Epoch 52/60\n",
            "60000/60000 [==============================] - 21s 354us/step - loss: 0.0147 - acc: 0.9953 - val_loss: 0.0312 - val_acc: 0.9924\n",
            "Epoch 53/60\n",
            "60000/60000 [==============================] - 21s 354us/step - loss: 0.0137 - acc: 0.9953 - val_loss: 0.0287 - val_acc: 0.9931\n",
            "Epoch 54/60\n",
            "60000/60000 [==============================] - 21s 354us/step - loss: 0.0134 - acc: 0.9957 - val_loss: 0.0295 - val_acc: 0.9922\n",
            "Epoch 55/60\n",
            "60000/60000 [==============================] - 21s 353us/step - loss: 0.0134 - acc: 0.9953 - val_loss: 0.0294 - val_acc: 0.9926\n",
            "Epoch 56/60\n",
            "60000/60000 [==============================] - 21s 354us/step - loss: 0.0141 - acc: 0.9953 - val_loss: 0.0306 - val_acc: 0.9927\n",
            "Epoch 57/60\n",
            "60000/60000 [==============================] - 21s 355us/step - loss: 0.0129 - acc: 0.9956 - val_loss: 0.0263 - val_acc: 0.9933\n",
            "Epoch 58/60\n",
            "60000/60000 [==============================] - 21s 353us/step - loss: 0.0131 - acc: 0.9955 - val_loss: 0.0296 - val_acc: 0.9926\n",
            "Epoch 59/60\n",
            "60000/60000 [==============================] - 21s 352us/step - loss: 0.0125 - acc: 0.9959 - val_loss: 0.0268 - val_acc: 0.9927\n",
            "Epoch 60/60\n",
            "60000/60000 [==============================] - 21s 353us/step - loss: 0.0125 - acc: 0.9958 - val_loss: 0.0292 - val_acc: 0.9938\n"
          ],
          "name": "stdout"
        },
        {
          "output_type": "execute_result",
          "data": {
            "text/plain": [
              "<keras.callbacks.History at 0x7f10e7d97400>"
            ]
          },
          "metadata": {
            "tags": []
          },
          "execution_count": 37
        }
      ]
    },
    {
      "cell_type": "markdown",
      "metadata": {
        "id": "4Mr0SF1cAbyb",
        "colab_type": "text"
      },
      "source": [
        "fit the model with the best Epoch and accuracy, here 22 and 38 Epoch gives the best accuracy"
      ]
    },
    {
      "cell_type": "code",
      "metadata": {
        "id": "AtsH-lLk-eLb",
        "colab_type": "code",
        "colab": {}
      },
      "source": [
        "score = model.evaluate(X_test, Y_test, verbose=0)"
      ],
      "execution_count": 0,
      "outputs": []
    },
    {
      "cell_type": "code",
      "metadata": {
        "id": "mkX8JMv79q9r",
        "colab_type": "code",
        "outputId": "a46eeea7-fdd6-4f82-f24c-8d826a7bad7b",
        "colab": {
          "base_uri": "https://localhost:8080/",
          "height": 34
        }
      },
      "source": [
        "print(score)"
      ],
      "execution_count": 39,
      "outputs": [
        {
          "output_type": "stream",
          "text": [
            "[0.02921437601087582, 0.9938]\n"
          ],
          "name": "stdout"
        }
      ]
    },
    {
      "cell_type": "markdown",
      "metadata": {
        "id": "UJdHOZ2rA2OU",
        "colab_type": "text"
      },
      "source": [
        "print the predicted score"
      ]
    },
    {
      "cell_type": "code",
      "metadata": {
        "id": "OCWoJkwE9suh",
        "colab_type": "code",
        "colab": {}
      },
      "source": [
        "y_pred = model.predict(X_test)"
      ],
      "execution_count": 0,
      "outputs": []
    },
    {
      "cell_type": "code",
      "metadata": {
        "id": "Ym7iCFBm9uBs",
        "colab_type": "code",
        "outputId": "54cae088-4fe1-457d-f9c7-6b226cf6d2ba",
        "colab": {
          "base_uri": "https://localhost:8080/",
          "height": 340
        }
      },
      "source": [
        "print(y_pred[:9])\n",
        "print(y_test[:9])"
      ],
      "execution_count": 41,
      "outputs": [
        {
          "output_type": "stream",
          "text": [
            "[[3.1749764e-15 3.6826256e-17 3.3026515e-10 4.1803772e-10 1.6980236e-22\n",
            "  1.6210237e-17 3.2024016e-25 1.0000000e+00 1.6299972e-16 5.8766936e-11]\n",
            " [5.3622221e-15 1.8861395e-09 1.0000000e+00 9.9231254e-16 1.2174537e-16\n",
            "  6.2123853e-24 5.6784738e-12 8.6676544e-17 1.8059697e-17 5.1248839e-18]\n",
            " [8.2838888e-08 9.9991763e-01 1.1297191e-07 2.9323132e-08 7.4428121e-05\n",
            "  8.8367631e-07 5.6164558e-06 1.1227897e-06 4.7252872e-08 7.8508712e-08]\n",
            " [9.9999988e-01 1.3965315e-23 3.1840548e-11 6.2136902e-12 2.0223657e-14\n",
            "  4.2765027e-09 7.1997505e-08 7.4973422e-16 3.0948422e-09 6.5096012e-10]\n",
            " [7.0618187e-18 7.6640120e-18 6.4606389e-19 6.8958047e-20 1.0000000e+00\n",
            "  1.3000869e-17 9.1748703e-16 2.1903812e-17 5.6706380e-12 5.7644662e-08]\n",
            " [1.9523915e-08 9.9994600e-01 1.7349461e-07 1.2498595e-08 5.2023403e-05\n",
            "  1.6175024e-09 4.8918626e-08 1.4955565e-06 5.9277263e-09 1.8264406e-07]\n",
            " [2.0937935e-26 6.6924033e-10 1.2338398e-18 1.1783170e-19 1.0000000e+00\n",
            "  6.4041117e-17 2.7543747e-24 4.3156193e-10 4.2006352e-08 1.6050129e-10]\n",
            " [2.5367295e-19 2.2666287e-13 3.0098010e-10 1.1074429e-13 7.5847961e-06\n",
            "  6.5137833e-15 3.4869502e-22 1.3629012e-12 4.4439699e-12 9.9999237e-01]\n",
            " [1.5351524e-11 1.6520530e-22 7.4975321e-20 5.7186294e-15 1.4258297e-19\n",
            "  9.9873871e-01 1.2537009e-03 9.5845238e-26 7.6458928e-06 9.8273924e-12]]\n",
            "[7 2 1 0 4 1 4 9 5]\n"
          ],
          "name": "stdout"
        }
      ]
    },
    {
      "cell_type": "code",
      "metadata": {
        "id": "CT--y98_dr2T",
        "colab_type": "code",
        "colab": {}
      },
      "source": [
        "layer_dict = dict([(layer.name, layer) for layer in model.layers])"
      ],
      "execution_count": 0,
      "outputs": []
    },
    {
      "cell_type": "code",
      "metadata": {
        "id": "9J0wE4__A868",
        "colab_type": "code",
        "colab": {}
      },
      "source": [
        "add the layers to dictonary"
      ],
      "execution_count": 0,
      "outputs": []
    },
    {
      "cell_type": "code",
      "metadata": {
        "id": "2GY4Upv4dsUR",
        "colab_type": "code",
        "outputId": "5f07df91-a9ff-40b0-e64b-152c8ef4da1e",
        "colab": {
          "base_uri": "https://localhost:8080/",
          "height": 741
        }
      },
      "source": [
        "import numpy as np\n",
        "from matplotlib import pyplot as plt\n",
        "from keras import backend as K\n",
        "%matplotlib inline\n",
        "# util function to convert a tensor into a valid image\n",
        "def deprocess_image(x):\n",
        "    # normalize tensor: center on 0., ensure std is 0.1\n",
        "    x -= x.mean()\n",
        "    x /= (x.std() + 1e-5)\n",
        "    x *= 0.1\n",
        "\n",
        "    # clip to [0, 1]\n",
        "    x += 0.5\n",
        "    x = np.clip(x, 0, 1)\n",
        "\n",
        "    # convert to RGB array\n",
        "    x *= 255\n",
        "    #x = x.transpose((1, 2, 0))\n",
        "    x = np.clip(x, 0, 255).astype('uint8')\n",
        "    return x\n",
        "\n",
        "def vis_img_in_filter(img = np.array(X_train[2]).reshape((1, 28, 28, 1)).astype(np.float64), \n",
        "                      layer_name = 'conv2d_65'):\n",
        "    layer_output = layer_dict[layer_name].output\n",
        "    img_ascs = list()\n",
        "    for filter_index in range(layer_output.shape[3]):\n",
        "        # build a loss function that maximizes the activation\n",
        "        # of the nth filter of the layer considered\n",
        "        loss = K.mean(layer_output[:, :, :, filter_index])\n",
        "\n",
        "        # compute the gradient of the input picture wrt this loss\n",
        "        grads = K.gradients(loss, model.input)[0]\n",
        "\n",
        "        # normalization trick: we normalize the gradient\n",
        "        grads /= (K.sqrt(K.mean(K.square(grads))) + 1e-5)\n",
        "\n",
        "        # this function returns the loss and grads given the input picture\n",
        "        iterate = K.function([model.input], [loss, grads])\n",
        "\n",
        "        # step size for gradient ascent\n",
        "        step = 5.\n",
        "\n",
        "        img_asc = np.array(img)\n",
        "        # run gradient ascent for 20 steps\n",
        "        for i in range(20):\n",
        "            loss_value, grads_value = iterate([img_asc])\n",
        "            img_asc += grads_value * step\n",
        "\n",
        "        img_asc = img_asc[0]\n",
        "        img_ascs.append(deprocess_image(img_asc).reshape((28, 28)))\n",
        "        \n",
        "    if layer_output.shape[3] >= 35:\n",
        "        plot_x, plot_y = 6, 6\n",
        "    elif layer_output.shape[3] >= 23:\n",
        "        plot_x, plot_y = 4, 6\n",
        "    elif layer_output.shape[3] >= 11:\n",
        "        plot_x, plot_y = 2, 6\n",
        "    else:\n",
        "        plot_x, plot_y = 1, 2\n",
        "    fig, ax = plt.subplots(plot_x, plot_y, figsize = (12, 12))\n",
        "    ax[0, 0].imshow(img.reshape((28, 28)), cmap = 'gray')\n",
        "    ax[0, 0].set_title('Input image')\n",
        "    fig.suptitle('Input image and %s filters' % (layer_name,))\n",
        "    fig.tight_layout(pad = 0.3, rect = [0, 0, 0.9, 0.9])\n",
        "    for (x, y) in [(i, j) for i in range(plot_x) for j in range(plot_y)]:\n",
        "        if x == 0 and y == 0:\n",
        "            continue\n",
        "        ax[x, y].imshow(img_ascs[x * plot_y + y - 1], cmap = 'gray')\n",
        "        ax[x, y].set_title('filter %d' % (x * plot_y + y - 1))\n",
        "\n",
        "vis_img_in_filter()"
      ],
      "execution_count": 53,
      "outputs": [
        {
          "output_type": "display_data",
          "data": {
            "image/png": "[encoded data removed]",
            "text/plain": [
              "<Figure size 864x864 with 12 Axes>"
            ]
          },
          "metadata": {
            "tags": []
          }
        }
      ]
    },
    {
      "cell_type": "markdown",
      "metadata": {
        "id": "w-q1sk02BA_O",
        "colab_type": "text"
      },
      "source": [
        "visualize the convolution and see the filters ."
      ]
    },
    {
      "cell_type": "code",
      "metadata": {
        "id": "9tvptcn8dxvp",
        "colab_type": "code",
        "colab": {}
      },
      "source": [
        ""
      ],
      "execution_count": 0,
      "outputs": []
    }
  ]
}