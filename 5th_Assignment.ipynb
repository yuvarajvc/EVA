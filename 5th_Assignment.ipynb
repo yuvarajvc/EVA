{
  "nbformat": 4,
  "nbformat_minor": 0,
  "metadata": {
    "colab": {
      "name": "5th_Assignment.ipynb",
      "version": "0.3.2",
      "provenance": [],
      "collapsed_sections": []
    },
    "kernelspec": {
      "name": "python3",
      "display_name": "Python 3"
    },
    "accelerator": "GPU"
  },
  "cells": [
    {
      "cell_type": "code",
      "metadata": {
        "id": "0SJyVpgSxHt4",
        "colab_type": "code",
        "colab": {}
      },
      "source": [
        "import numpy as np\n",
        "\n",
        "from keras.models import Sequential\n",
        "from keras.layers import Dense, Dropout, Activation, Flatten, Add, BatchNormalization\n",
        "from keras.layers import Convolution2D, MaxPooling2D\n",
        "from keras.utils import np_utils\n",
        "from keras.preprocessing.image import ImageDataGenerator\n",
        "from keras import regularizers\n",
        "from keras.datasets import mnist"
      ],
      "execution_count": 0,
      "outputs": []
    },
    {
      "cell_type": "code",
      "metadata": {
        "id": "YlEUplvoxKAT",
        "colab_type": "code",
        "colab": {}
      },
      "source": [
        "(X_train, y_train), (X_test, y_test) = mnist.load_data()\n"
      ],
      "execution_count": 0,
      "outputs": []
    },
    {
      "cell_type": "code",
      "metadata": {
        "id": "I6Y9Va-xxMXG",
        "colab_type": "code",
        "outputId": "383692a0-59af-4de3-c4c4-a0351c9eb351",
        "colab": {
          "base_uri": "https://localhost:8080/",
          "height": 304
        }
      },
      "source": [
        "print (X_train.shape)\n",
        "from matplotlib import pyplot as plt\n",
        "%matplotlib inline\n",
        "plt.imshow(X_train[1])"
      ],
      "execution_count": 46,
      "outputs": [
        {
          "output_type": "stream",
          "text": [
            "(60000, 28, 28)\n"
          ],
          "name": "stdout"
        },
        {
          "output_type": "execute_result",
          "data": {
            "text/plain": [
              "<matplotlib.image.AxesImage at 0x7f2660f62eb8>"
            ]
          },
          "metadata": {
            "tags": []
          },
          "execution_count": 46
        },
        {
          "output_type": "display_data",
          "data": {
            "image/png": "[encoded data removed]",
            "text/plain": [
              "<Figure size 432x288 with 1 Axes>"
            ]
          },
          "metadata": {
            "tags": []
          }
        }
      ]
    },
    {
      "cell_type": "code",
      "metadata": {
        "id": "lxDZxPhhxOgO",
        "colab_type": "code",
        "colab": {}
      },
      "source": [
        "X_train = X_train.reshape(X_train.shape[0], 28, 28,1)\n",
        "X_test = X_test.reshape(X_test.shape[0], 28, 28,1)"
      ],
      "execution_count": 0,
      "outputs": []
    },
    {
      "cell_type": "code",
      "metadata": {
        "id": "3HzMqbTnxQQW",
        "colab_type": "code",
        "colab": {}
      },
      "source": [
        "X_train = X_train.astype('float32')\n",
        "X_test = X_test.astype('float32')\n",
        "X_train /= 255\n",
        "X_test /= 255"
      ],
      "execution_count": 0,
      "outputs": []
    },
    {
      "cell_type": "code",
      "metadata": {
        "id": "7LdYiW6ixR9e",
        "colab_type": "code",
        "colab": {}
      },
      "source": [
        "y_train[:10]\n",
        "Y_train = np_utils.to_categorical(y_train, 10)\n",
        "Y_test = np_utils.to_categorical(y_test, 10)"
      ],
      "execution_count": 0,
      "outputs": []
    },
    {
      "cell_type": "code",
      "metadata": {
        "id": "rFR0F9j0xVp2",
        "colab_type": "code",
        "outputId": "d748e07e-b022-4bf4-c83b-6309d64d435b",
        "colab": {
          "base_uri": "https://localhost:8080/",
          "height": 194
        }
      },
      "source": [
        "Y_train[:10]"
      ],
      "execution_count": 50,
      "outputs": [
        {
          "output_type": "execute_result",
          "data": {
            "text/plain": [
              "array([[0., 0., 0., 0., 0., 1., 0., 0., 0., 0.],\n",
              "       [1., 0., 0., 0., 0., 0., 0., 0., 0., 0.],\n",
              "       [0., 0., 0., 0., 1., 0., 0., 0., 0., 0.],\n",
              "       [0., 1., 0., 0., 0., 0., 0., 0., 0., 0.],\n",
              "       [0., 0., 0., 0., 0., 0., 0., 0., 0., 1.],\n",
              "       [0., 0., 1., 0., 0., 0., 0., 0., 0., 0.],\n",
              "       [0., 1., 0., 0., 0., 0., 0., 0., 0., 0.],\n",
              "       [0., 0., 0., 1., 0., 0., 0., 0., 0., 0.],\n",
              "       [0., 1., 0., 0., 0., 0., 0., 0., 0., 0.],\n",
              "       [0., 0., 0., 0., 1., 0., 0., 0., 0., 0.]], dtype=float32)"
            ]
          },
          "metadata": {
            "tags": []
          },
          "execution_count": 50
        }
      ]
    },
    {
      "cell_type": "code",
      "metadata": {
        "id": "PKiY2NeFfJcX",
        "colab_type": "code",
        "outputId": "f2b7b260-27a3-439e-8a7c-5b6bed54126a",
        "colab": {
          "base_uri": "https://localhost:8080/",
          "height": 34
        }
      },
      "source": [
        "# pixel means and standard deviations\n",
        "print('Statistics train=%.3f (%.3f), test=%.3f (%.3f)' % (X_train.mean(), X_train.std(), X_test.mean(), X_test.std()))"
      ],
      "execution_count": 51,
      "outputs": [
        {
          "output_type": "stream",
          "text": [
            "Statistics train=0.131 (0.308), test=0.133 (0.310)\n"
          ],
          "name": "stdout"
        }
      ]
    },
    {
      "cell_type": "code",
      "metadata": {
        "id": "6ZN6i8grgGcQ",
        "colab_type": "code",
        "outputId": "22d0f2fb-4fd1-4443-d335-f7b97dfa48d8",
        "colab": {
          "base_uri": "https://localhost:8080/",
          "height": 34
        }
      },
      "source": [
        "# create generator that centers pixel values\n",
        "datagen = ImageDataGenerator(featurewise_center=True, featurewise_std_normalization=True)\n",
        "# calculate the mean on the training dataset\n",
        "datagen.fit(X_train)\n",
        "print('Data Generator mean=%.3f, std=%.3f' % (datagen.mean, datagen.std))\n"
      ],
      "execution_count": 52,
      "outputs": [
        {
          "output_type": "stream",
          "text": [
            "Data Generator mean=0.131, std=0.308\n"
          ],
          "name": "stdout"
        }
      ]
    },
    {
      "cell_type": "code",
      "metadata": {
        "id": "GIa5eUbegrdv",
        "colab_type": "code",
        "outputId": "72693de6-3486-4d2b-b52e-22cee85cecb4",
        "colab": {
          "base_uri": "https://localhost:8080/",
          "height": 34
        }
      },
      "source": [
        "# calculate the mean on the test dataset\n",
        "datagen.fit(X_test)\n",
        "print('Data Generator mean=%.3f, std=%.3f' % (datagen.mean, datagen.std))\n"
      ],
      "execution_count": 53,
      "outputs": [
        {
          "output_type": "stream",
          "text": [
            "Data Generator mean=0.133, std=0.310\n"
          ],
          "name": "stdout"
        }
      ]
    },
    {
      "cell_type": "code",
      "metadata": {
        "id": "tw-8LF8xhFFp",
        "colab_type": "code",
        "outputId": "2003e8cb-f0e3-46e8-8587-7e3390028610",
        "colab": {
          "base_uri": "https://localhost:8080/",
          "height": 34
        }
      },
      "source": [
        "# demonstrate effect on a single batch of samples\n",
        "train_iterator = datagen.flow(X_train, Y_train, batch_size=64)\n",
        "# get a batch\n",
        "batchX, batchy = train_iterator.next()\n",
        "# pixel stats in the batch\n",
        "print(batchX.shape, batchX.mean(), batchX.std())"
      ],
      "execution_count": 54,
      "outputs": [
        {
          "output_type": "stream",
          "text": [
            "(64, 28, 28, 1) -0.018948758 0.97950494\n"
          ],
          "name": "stdout"
        }
      ]
    },
    {
      "cell_type": "code",
      "metadata": {
        "id": "f5r8LfSLhYbm",
        "colab_type": "code",
        "outputId": "95a19eba-192d-48a7-a725-7a25e01bcee9",
        "colab": {
          "base_uri": "https://localhost:8080/",
          "height": 34
        }
      },
      "source": [
        "# demonstrate effect on entire training dataset\n",
        "test_iterator = datagen.flow(X_train, Y_train, batch_size=256, shuffle=False)\n",
        "# get a batch\n",
        "batchX, batchy = test_iterator.next()\n",
        "# pixel stats in the batch\n",
        "print(batchX.shape, batchX.mean(), batchX.std())"
      ],
      "execution_count": 55,
      "outputs": [
        {
          "output_type": "stream",
          "text": [
            "(256, 28, 28, 1) -0.013674024 0.9830863\n"
          ],
          "name": "stdout"
        }
      ]
    },
    {
      "cell_type": "code",
      "metadata": {
        "id": "mDpXf4YQxXRm",
        "colab_type": "code",
        "outputId": "7b6fa819-8b31-43e8-b528-6fb9e0b90ce4",
        "colab": {
          "base_uri": "https://localhost:8080/",
          "height": 232
        }
      },
      "source": [
        "from keras.layers import Activation\n",
        "model = Sequential()\n",
        " \n",
        "model.add(Convolution2D(16, 3, 3, input_shape=(28,28,1),kernel_regularizer=regularizers.l2(0.01))) #26\n",
        "model.add(BatchNormalization())\n",
        "model.add(Activation('relu'))\n",
        "model.add(Dropout(0.3))\n",
        "\n",
        "model.add(Convolution2D(16, 3, 3, kernel_regularizer=regularizers.l2(0.01))) #24\n",
        "model.add(BatchNormalization())\n",
        "model.add(Activation('relu'))\n",
        "model.add(Dropout(0.3))\n",
        "\n",
        "model.add(Convolution2D(16, 1,1, activation='relu'))\n",
        "\n",
        "model.add(MaxPooling2D(pool_size=(2, 2))) #12\n",
        "\n",
        "model.add(Convolution2D(16, 3, 3, kernel_regularizer=regularizers.l2(0.01))) #10\n",
        "model.add(BatchNormalization())\n",
        "model.add(Activation('relu'))\n",
        "model.add(Dropout(0.3))\n",
        "\n",
        "model.add(Convolution2D(16, 3, 3, kernel_regularizer=regularizers.l2(0.01))) #8\n",
        "model.add(BatchNormalization())\n",
        "model.add(Activation('relu'))\n",
        "model.add(Dropout(0.3))\n",
        "\n",
        "model.add(Convolution2D(16, 3, 3, kernel_regularizer=regularizers.l2(0.01))) #6\n",
        "model.add(BatchNormalization())\n",
        "model.add(Activation('relu'))\n",
        "model.add(Dropout(0.3))\n",
        "\n",
        "model.add(Convolution2D(16, 3, 3, kernel_regularizer=regularizers.l2(0.01))) #4\n",
        "model.add(BatchNormalization())\n",
        "model.add(Activation('relu'))\n",
        "model.add(Dropout(0.3))\n",
        "\n",
        "model.add(Convolution2D(10, 4 ,4))\n",
        "model.add(Flatten())\n",
        "model.add(Activation('softmax'))"
      ],
      "execution_count": 56,
      "outputs": [
        {
          "output_type": "stream",
          "text": [
            "/usr/local/lib/python3.6/dist-packages/ipykernel_launcher.py:4: UserWarning: Update your `Conv2D` call to the Keras 2 API: `Conv2D(16, (3, 3), input_shape=(28, 28, 1..., kernel_regularizer=<keras.reg...)`\n",
            "  after removing the cwd from sys.path.\n",
            "/usr/local/lib/python3.6/dist-packages/ipykernel_launcher.py:9: UserWarning: Update your `Conv2D` call to the Keras 2 API: `Conv2D(16, (3, 3), kernel_regularizer=<keras.reg...)`\n",
            "  if __name__ == '__main__':\n",
            "/usr/local/lib/python3.6/dist-packages/ipykernel_launcher.py:14: UserWarning: Update your `Conv2D` call to the Keras 2 API: `Conv2D(16, (1, 1), activation=\"relu\")`\n",
            "  \n",
            "/usr/local/lib/python3.6/dist-packages/ipykernel_launcher.py:18: UserWarning: Update your `Conv2D` call to the Keras 2 API: `Conv2D(16, (3, 3), kernel_regularizer=<keras.reg...)`\n",
            "/usr/local/lib/python3.6/dist-packages/ipykernel_launcher.py:23: UserWarning: Update your `Conv2D` call to the Keras 2 API: `Conv2D(16, (3, 3), kernel_regularizer=<keras.reg...)`\n",
            "/usr/local/lib/python3.6/dist-packages/ipykernel_launcher.py:28: UserWarning: Update your `Conv2D` call to the Keras 2 API: `Conv2D(16, (3, 3), kernel_regularizer=<keras.reg...)`\n",
            "/usr/local/lib/python3.6/dist-packages/ipykernel_launcher.py:33: UserWarning: Update your `Conv2D` call to the Keras 2 API: `Conv2D(16, (3, 3), kernel_regularizer=<keras.reg...)`\n",
            "/usr/local/lib/python3.6/dist-packages/ipykernel_launcher.py:38: UserWarning: Update your `Conv2D` call to the Keras 2 API: `Conv2D(10, (4, 4))`\n"
          ],
          "name": "stderr"
        }
      ]
    },
    {
      "cell_type": "code",
      "metadata": {
        "id": "Flafu9RzAIn1",
        "colab_type": "code",
        "outputId": "e83d4d4b-e233-4c37-df84-d67a30d223f8",
        "colab": {
          "base_uri": "https://localhost:8080/",
          "height": 1172
        }
      },
      "source": [
        "model.summary()"
      ],
      "execution_count": 57,
      "outputs": [
        {
          "output_type": "stream",
          "text": [
            "_________________________________________________________________\n",
            "Layer (type)                 Output Shape              Param #   \n",
            "=================================================================\n",
            "conv2d_25 (Conv2D)           (None, 26, 26, 16)        160       \n",
            "_________________________________________________________________\n",
            "batch_normalization_19 (Batc (None, 26, 26, 16)        64        \n",
            "_________________________________________________________________\n",
            "activation_16 (Activation)   (None, 26, 26, 16)        0         \n",
            "_________________________________________________________________\n",
            "dropout_19 (Dropout)         (None, 26, 26, 16)        0         \n",
            "_________________________________________________________________\n",
            "conv2d_26 (Conv2D)           (None, 24, 24, 16)        2320      \n",
            "_________________________________________________________________\n",
            "batch_normalization_20 (Batc (None, 24, 24, 16)        64        \n",
            "_________________________________________________________________\n",
            "activation_17 (Activation)   (None, 24, 24, 16)        0         \n",
            "_________________________________________________________________\n",
            "dropout_20 (Dropout)         (None, 24, 24, 16)        0         \n",
            "_________________________________________________________________\n",
            "conv2d_27 (Conv2D)           (None, 24, 24, 16)        272       \n",
            "_________________________________________________________________\n",
            "max_pooling2d_4 (MaxPooling2 (None, 12, 12, 16)        0         \n",
            "_________________________________________________________________\n",
            "conv2d_28 (Conv2D)           (None, 10, 10, 16)        2320      \n",
            "_________________________________________________________________\n",
            "batch_normalization_21 (Batc (None, 10, 10, 16)        64        \n",
            "_________________________________________________________________\n",
            "activation_18 (Activation)   (None, 10, 10, 16)        0         \n",
            "_________________________________________________________________\n",
            "dropout_21 (Dropout)         (None, 10, 10, 16)        0         \n",
            "_________________________________________________________________\n",
            "conv2d_29 (Conv2D)           (None, 8, 8, 16)          2320      \n",
            "_________________________________________________________________\n",
            "batch_normalization_22 (Batc (None, 8, 8, 16)          64        \n",
            "_________________________________________________________________\n",
            "activation_19 (Activation)   (None, 8, 8, 16)          0         \n",
            "_________________________________________________________________\n",
            "dropout_22 (Dropout)         (None, 8, 8, 16)          0         \n",
            "_________________________________________________________________\n",
            "conv2d_30 (Conv2D)           (None, 6, 6, 16)          2320      \n",
            "_________________________________________________________________\n",
            "batch_normalization_23 (Batc (None, 6, 6, 16)          64        \n",
            "_________________________________________________________________\n",
            "activation_20 (Activation)   (None, 6, 6, 16)          0         \n",
            "_________________________________________________________________\n",
            "dropout_23 (Dropout)         (None, 6, 6, 16)          0         \n",
            "_________________________________________________________________\n",
            "conv2d_31 (Conv2D)           (None, 4, 4, 16)          2320      \n",
            "_________________________________________________________________\n",
            "batch_normalization_24 (Batc (None, 4, 4, 16)          64        \n",
            "_________________________________________________________________\n",
            "activation_21 (Activation)   (None, 4, 4, 16)          0         \n",
            "_________________________________________________________________\n",
            "dropout_24 (Dropout)         (None, 4, 4, 16)          0         \n",
            "_________________________________________________________________\n",
            "conv2d_32 (Conv2D)           (None, 1, 1, 10)          2570      \n",
            "_________________________________________________________________\n",
            "flatten_4 (Flatten)          (None, 10)                0         \n",
            "_________________________________________________________________\n",
            "activation_22 (Activation)   (None, 10)                0         \n",
            "=================================================================\n",
            "Total params: 14,986\n",
            "Trainable params: 14,794\n",
            "Non-trainable params: 192\n",
            "_________________________________________________________________\n"
          ],
          "name": "stdout"
        }
      ]
    },
    {
      "cell_type": "code",
      "metadata": {
        "id": "QSOH5Uvp0swl",
        "colab_type": "code",
        "outputId": "70c3c4fa-865a-4ec8-ceb2-0a6af83a802d",
        "colab": {
          "base_uri": "https://localhost:8080/",
          "height": 34
        }
      },
      "source": [
        "# For retrieving the saved best results\n",
        "from google.colab import drive\n",
        "drive.mount('/content/gdrive')"
      ],
      "execution_count": 58,
      "outputs": [
        {
          "output_type": "stream",
          "text": [
            "Drive already mounted at /content/gdrive; to attempt to forcibly remount, call drive.mount(\"/content/gdrive\", force_remount=True).\n"
          ],
          "name": "stdout"
        }
      ]
    },
    {
      "cell_type": "code",
      "metadata": {
        "id": "is0JKTeC1Eyt",
        "colab_type": "code",
        "colab": {}
      },
      "source": [
        "# Defining checkpoints\n",
        "from keras.callbacks import ModelCheckpoint\n",
        "filepath=\"/content/gdrive/My Drive/Yuvaraj-{epoch:02d}-{val_acc:.2f}.hdf5\"\n",
        "checkpoint = ModelCheckpoint(filepath, monitor='val_acc', verbose=1, save_best_only=True, mode='max')\n",
        "callbacks_list = [checkpoint]"
      ],
      "execution_count": 0,
      "outputs": []
    },
    {
      "cell_type": "code",
      "metadata": {
        "id": "L2IicGJ4x3Be",
        "colab_type": "code",
        "outputId": "8bb64132-8ea9-4922-e570-ce1bea89ce1e",
        "colab": {
          "base_uri": "https://localhost:8080/",
          "height": 4301
        }
      },
      "source": [
        "from keras.optimizers import Adam\n",
        "from keras.callbacks import LearningRateScheduler\n",
        "def scheduler(epoch, lr):\n",
        "  return round(0.003 * 1/(1 + 0.319 * epoch), 10)\n",
        "\n",
        "callbacks_list.append(LearningRateScheduler(scheduler, verbose=1))\n",
        "\n",
        "model.compile(loss='categorical_crossentropy', optimizer=Adam(lr=0.003), metrics=['accuracy'])\n",
        "\n",
        "#model.fit(X_train, Y_train, batch_size=128, epochs=40, verbose=1, validation_data=(X_test, Y_test), callbacks=[LearningRateScheduler(scheduler, verbose=1)])\n",
        "model.fit_generator(\n",
        "        train_iterator,\n",
        "        steps_per_epoch=200,\n",
        "        epochs=40,\n",
        "        validation_data=test_iterator,\n",
        "        callbacks=callbacks_list,\n",
        "        validation_steps=600) "
      ],
      "execution_count": 60,
      "outputs": [
        {
          "output_type": "stream",
          "text": [
            "Epoch 1/40\n",
            "\n",
            "Epoch 00001: LearningRateScheduler setting learning rate to 0.003.\n",
            "200/200 [==============================] - 9s 46ms/step - loss: 1.3620 - acc: 0.7317 - val_loss: 1.6816 - val_acc: 0.5768\n",
            "\n",
            "Epoch 00001: val_acc improved from -inf to 0.57679, saving model to /content/gdrive/My Drive/Yuvaraj-01-0.58.hdf5\n",
            "Epoch 2/40\n",
            "\n",
            "Epoch 00002: LearningRateScheduler setting learning rate to 0.0022744503.\n",
            "200/200 [==============================] - 7s 36ms/step - loss: 0.4578 - acc: 0.9285 - val_loss: 1.0138 - val_acc: 0.7135\n",
            "\n",
            "Epoch 00002: val_acc improved from 0.57679 to 0.71345, saving model to /content/gdrive/My Drive/Yuvaraj-02-0.71.hdf5\n",
            "Epoch 3/40\n",
            "\n",
            "Epoch 00003: LearningRateScheduler setting learning rate to 0.0018315018.\n",
            "200/200 [==============================] - 7s 33ms/step - loss: 0.3234 - acc: 0.9427 - val_loss: 0.5238 - val_acc: 0.8633\n",
            "\n",
            "Epoch 00003: val_acc improved from 0.71345 to 0.86331, saving model to /content/gdrive/My Drive/Yuvaraj-03-0.86.hdf5\n",
            "Epoch 4/40\n",
            "\n",
            "Epoch 00004: LearningRateScheduler setting learning rate to 0.0015329586.\n",
            "200/200 [==============================] - 6s 32ms/step - loss: 0.2820 - acc: 0.9477 - val_loss: 0.3252 - val_acc: 0.9329\n",
            "\n",
            "Epoch 00004: val_acc improved from 0.86331 to 0.93289, saving model to /content/gdrive/My Drive/Yuvaraj-04-0.93.hdf5\n",
            "Epoch 5/40\n",
            "\n",
            "Epoch 00005: LearningRateScheduler setting learning rate to 0.0013181019.\n",
            "200/200 [==============================] - 8s 38ms/step - loss: 0.2521 - acc: 0.9524 - val_loss: 0.2434 - val_acc: 0.9536\n",
            "\n",
            "Epoch 00005: val_acc improved from 0.93289 to 0.95356, saving model to /content/gdrive/My Drive/Yuvaraj-05-0.95.hdf5\n",
            "Epoch 6/40\n",
            "\n",
            "Epoch 00006: LearningRateScheduler setting learning rate to 0.0011560694.\n",
            "200/200 [==============================] - 7s 34ms/step - loss: 0.2191 - acc: 0.9574 - val_loss: 0.2117 - val_acc: 0.9614\n",
            "\n",
            "Epoch 00006: val_acc improved from 0.95356 to 0.96143, saving model to /content/gdrive/My Drive/Yuvaraj-06-0.96.hdf5\n",
            "Epoch 7/40\n",
            "\n",
            "Epoch 00007: LearningRateScheduler setting learning rate to 0.0010295127.\n",
            "200/200 [==============================] - 6s 32ms/step - loss: 0.2028 - acc: 0.9625 - val_loss: 0.1893 - val_acc: 0.9654\n",
            "\n",
            "Epoch 00007: val_acc improved from 0.96143 to 0.96536, saving model to /content/gdrive/My Drive/Yuvaraj-07-0.97.hdf5\n",
            "Epoch 8/40\n",
            "\n",
            "Epoch 00008: LearningRateScheduler setting learning rate to 0.0009279307.\n",
            "200/200 [==============================] - 6s 32ms/step - loss: 0.2013 - acc: 0.9616 - val_loss: 0.1713 - val_acc: 0.9696\n",
            "\n",
            "Epoch 00008: val_acc improved from 0.96536 to 0.96960, saving model to /content/gdrive/My Drive/Yuvaraj-08-0.97.hdf5\n",
            "Epoch 9/40\n",
            "\n",
            "Epoch 00009: LearningRateScheduler setting learning rate to 0.0008445946.\n",
            "200/200 [==============================] - 7s 33ms/step - loss: 0.1833 - acc: 0.9658 - val_loss: 0.2175 - val_acc: 0.9517\n",
            "\n",
            "Epoch 00009: val_acc did not improve from 0.96960\n",
            "Epoch 10/40\n",
            "\n",
            "Epoch 00010: LearningRateScheduler setting learning rate to 0.0007749935.\n",
            "200/200 [==============================] - 6s 32ms/step - loss: 0.1724 - acc: 0.9676 - val_loss: 0.1611 - val_acc: 0.9694\n",
            "\n",
            "Epoch 00010: val_acc did not improve from 0.96960\n",
            "Epoch 11/40\n",
            "\n",
            "Epoch 00011: LearningRateScheduler setting learning rate to 0.0007159905.\n",
            "200/200 [==============================] - 6s 32ms/step - loss: 0.1651 - acc: 0.9697 - val_loss: 0.1824 - val_acc: 0.9613\n",
            "\n",
            "Epoch 00011: val_acc did not improve from 0.96960\n",
            "Epoch 12/40\n",
            "\n",
            "Epoch 00012: LearningRateScheduler setting learning rate to 0.000665336.\n",
            "200/200 [==============================] - 7s 33ms/step - loss: 0.1620 - acc: 0.9668 - val_loss: 0.1503 - val_acc: 0.9719\n",
            "\n",
            "Epoch 00012: val_acc improved from 0.96960 to 0.97189, saving model to /content/gdrive/My Drive/Yuvaraj-12-0.97.hdf5\n",
            "Epoch 13/40\n",
            "\n",
            "Epoch 00013: LearningRateScheduler setting learning rate to 0.0006213753.\n",
            "200/200 [==============================] - 7s 33ms/step - loss: 0.1549 - acc: 0.9697 - val_loss: 0.1202 - val_acc: 0.9798\n",
            "\n",
            "Epoch 00013: val_acc improved from 0.97189 to 0.97983, saving model to /content/gdrive/My Drive/Yuvaraj-13-0.98.hdf5\n",
            "Epoch 14/40\n",
            "\n",
            "Epoch 00014: LearningRateScheduler setting learning rate to 0.0005828638.\n",
            "200/200 [==============================] - 7s 33ms/step - loss: 0.1571 - acc: 0.9685 - val_loss: 0.1372 - val_acc: 0.9741\n",
            "\n",
            "Epoch 00014: val_acc did not improve from 0.97983\n",
            "Epoch 15/40\n",
            "\n",
            "Epoch 00015: LearningRateScheduler setting learning rate to 0.0005488474.\n",
            "200/200 [==============================] - 7s 33ms/step - loss: 0.1395 - acc: 0.9712 - val_loss: 0.1225 - val_acc: 0.9776\n",
            "\n",
            "Epoch 00015: val_acc did not improve from 0.97983\n",
            "Epoch 16/40\n",
            "\n",
            "Epoch 00016: LearningRateScheduler setting learning rate to 0.0005185825.\n",
            "200/200 [==============================] - 7s 33ms/step - loss: 0.1394 - acc: 0.9724 - val_loss: 0.1127 - val_acc: 0.9808\n",
            "\n",
            "Epoch 00016: val_acc improved from 0.97983 to 0.98082, saving model to /content/gdrive/My Drive/Yuvaraj-16-0.98.hdf5\n",
            "Epoch 17/40\n",
            "\n",
            "Epoch 00017: LearningRateScheduler setting learning rate to 0.000491481.\n",
            "200/200 [==============================] - 8s 38ms/step - loss: 0.1390 - acc: 0.9733 - val_loss: 0.1292 - val_acc: 0.9746\n",
            "\n",
            "Epoch 00017: val_acc did not improve from 0.98082\n",
            "Epoch 18/40\n",
            "\n",
            "Epoch 00018: LearningRateScheduler setting learning rate to 0.0004670715.\n",
            "200/200 [==============================] - 7s 34ms/step - loss: 0.1427 - acc: 0.9723 - val_loss: 0.1248 - val_acc: 0.9756\n",
            "\n",
            "Epoch 00018: val_acc did not improve from 0.98082\n",
            "Epoch 19/40\n",
            "\n",
            "Epoch 00019: LearningRateScheduler setting learning rate to 0.0004449718.\n",
            "200/200 [==============================] - 6s 32ms/step - loss: 0.1323 - acc: 0.9720 - val_loss: 0.0977 - val_acc: 0.9832\n",
            "\n",
            "Epoch 00019: val_acc improved from 0.98082 to 0.98316, saving model to /content/gdrive/My Drive/Yuvaraj-19-0.98.hdf5\n",
            "Epoch 20/40\n",
            "\n",
            "Epoch 00020: LearningRateScheduler setting learning rate to 0.000424869.\n",
            "200/200 [==============================] - 6s 32ms/step - loss: 0.1344 - acc: 0.9732 - val_loss: 0.0999 - val_acc: 0.9818\n",
            "\n",
            "Epoch 00020: val_acc did not improve from 0.98316\n",
            "Epoch 21/40\n",
            "\n",
            "Epoch 00021: LearningRateScheduler setting learning rate to 0.0004065041.\n",
            "200/200 [==============================] - 6s 32ms/step - loss: 0.1309 - acc: 0.9745 - val_loss: 0.1217 - val_acc: 0.9749\n",
            "\n",
            "Epoch 00021: val_acc did not improve from 0.98316\n",
            "Epoch 22/40\n",
            "\n",
            "Epoch 00022: LearningRateScheduler setting learning rate to 0.000389661.\n",
            "200/200 [==============================] - 6s 32ms/step - loss: 0.1172 - acc: 0.9786 - val_loss: 0.1270 - val_acc: 0.9741\n",
            "\n",
            "Epoch 00022: val_acc did not improve from 0.98316\n",
            "Epoch 23/40\n",
            "\n",
            "Epoch 00023: LearningRateScheduler setting learning rate to 0.0003741581.\n",
            "200/200 [==============================] - 6s 32ms/step - loss: 0.1191 - acc: 0.9756 - val_loss: 0.0925 - val_acc: 0.9835\n",
            "\n",
            "Epoch 00023: val_acc improved from 0.98316 to 0.98350, saving model to /content/gdrive/My Drive/Yuvaraj-23-0.98.hdf5\n",
            "Epoch 24/40\n",
            "\n",
            "Epoch 00024: LearningRateScheduler setting learning rate to 0.0003598417.\n",
            "200/200 [==============================] - 6s 32ms/step - loss: 0.1132 - acc: 0.9776 - val_loss: 0.1032 - val_acc: 0.9795\n",
            "\n",
            "Epoch 00024: val_acc did not improve from 0.98350\n",
            "Epoch 25/40\n",
            "\n",
            "Epoch 00025: LearningRateScheduler setting learning rate to 0.0003465804.\n",
            "200/200 [==============================] - 6s 32ms/step - loss: 0.1117 - acc: 0.9747 - val_loss: 0.0882 - val_acc: 0.9843\n",
            "\n",
            "Epoch 00025: val_acc improved from 0.98350 to 0.98433, saving model to /content/gdrive/My Drive/Yuvaraj-25-0.98.hdf5\n",
            "Epoch 26/40\n",
            "\n",
            "Epoch 00026: LearningRateScheduler setting learning rate to 0.0003342618.\n",
            "200/200 [==============================] - 6s 32ms/step - loss: 0.1179 - acc: 0.9757 - val_loss: 0.0943 - val_acc: 0.9825\n",
            "\n",
            "Epoch 00026: val_acc did not improve from 0.98433\n",
            "Epoch 27/40\n",
            "\n",
            "Epoch 00027: LearningRateScheduler setting learning rate to 0.0003227889.\n",
            "200/200 [==============================] - 6s 32ms/step - loss: 0.1163 - acc: 0.9755 - val_loss: 0.1058 - val_acc: 0.9780\n",
            "\n",
            "Epoch 00027: val_acc did not improve from 0.98433\n",
            "Epoch 28/40\n",
            "\n",
            "Epoch 00028: LearningRateScheduler setting learning rate to 0.0003120774.\n",
            "200/200 [==============================] - 6s 32ms/step - loss: 0.1139 - acc: 0.9765 - val_loss: 0.0796 - val_acc: 0.9868\n",
            "\n",
            "Epoch 00028: val_acc improved from 0.98433 to 0.98679, saving model to /content/gdrive/My Drive/Yuvaraj-28-0.99.hdf5\n",
            "Epoch 29/40\n",
            "\n",
            "Epoch 00029: LearningRateScheduler setting learning rate to 0.000302054.\n",
            "200/200 [==============================] - 7s 37ms/step - loss: 0.1122 - acc: 0.9767 - val_loss: 0.1097 - val_acc: 0.9770\n",
            "\n",
            "Epoch 00029: val_acc did not improve from 0.98679\n",
            "Epoch 30/40\n",
            "\n",
            "Epoch 00030: LearningRateScheduler setting learning rate to 0.0002926544.\n",
            "200/200 [==============================] - 7s 35ms/step - loss: 0.1062 - acc: 0.9788 - val_loss: 0.0803 - val_acc: 0.9856\n",
            "\n",
            "Epoch 00030: val_acc did not improve from 0.98679\n",
            "Epoch 31/40\n",
            "\n",
            "Epoch 00031: LearningRateScheduler setting learning rate to 0.0002838221.\n",
            "200/200 [==============================] - 6s 32ms/step - loss: 0.1103 - acc: 0.9773 - val_loss: 0.1020 - val_acc: 0.9782\n",
            "\n",
            "Epoch 00031: val_acc did not improve from 0.98679\n",
            "Epoch 32/40\n",
            "\n",
            "Epoch 00032: LearningRateScheduler setting learning rate to 0.0002755074.\n",
            "200/200 [==============================] - 6s 32ms/step - loss: 0.1069 - acc: 0.9766 - val_loss: 0.0796 - val_acc: 0.9856\n",
            "\n",
            "Epoch 00032: val_acc did not improve from 0.98679\n",
            "Epoch 33/40\n",
            "\n",
            "Epoch 00033: LearningRateScheduler setting learning rate to 0.000267666.\n",
            "200/200 [==============================] - 6s 32ms/step - loss: 0.1029 - acc: 0.9796 - val_loss: 0.0970 - val_acc: 0.9800\n",
            "\n",
            "Epoch 00033: val_acc did not improve from 0.98679\n",
            "Epoch 34/40\n",
            "\n",
            "Epoch 00034: LearningRateScheduler setting learning rate to 0.0002602585.\n",
            "200/200 [==============================] - 6s 32ms/step - loss: 0.1052 - acc: 0.9765 - val_loss: 0.0917 - val_acc: 0.9813\n",
            "\n",
            "Epoch 00034: val_acc did not improve from 0.98679\n",
            "Epoch 35/40\n",
            "\n",
            "Epoch 00035: LearningRateScheduler setting learning rate to 0.00025325.\n",
            "200/200 [==============================] - 6s 32ms/step - loss: 0.1101 - acc: 0.9772 - val_loss: 0.0843 - val_acc: 0.9835\n",
            "\n",
            "Epoch 00035: val_acc did not improve from 0.98679\n",
            "Epoch 36/40\n",
            "\n",
            "Epoch 00036: LearningRateScheduler setting learning rate to 0.0002466091.\n",
            "200/200 [==============================] - 6s 32ms/step - loss: 0.0965 - acc: 0.9803 - val_loss: 0.0730 - val_acc: 0.9868\n",
            "\n",
            "Epoch 00036: val_acc improved from 0.98679 to 0.98685, saving model to /content/gdrive/My Drive/Yuvaraj-36-0.99.hdf5\n",
            "Epoch 37/40\n",
            "\n",
            "Epoch 00037: LearningRateScheduler setting learning rate to 0.0002403076.\n",
            "200/200 [==============================] - 6s 32ms/step - loss: 0.1063 - acc: 0.9773 - val_loss: 0.0888 - val_acc: 0.9816\n",
            "\n",
            "Epoch 00037: val_acc did not improve from 0.98685\n",
            "Epoch 38/40\n",
            "\n",
            "Epoch 00038: LearningRateScheduler setting learning rate to 0.0002343201.\n",
            "200/200 [==============================] - 6s 32ms/step - loss: 0.1017 - acc: 0.9767 - val_loss: 0.0831 - val_acc: 0.9843\n",
            "\n",
            "Epoch 00038: val_acc did not improve from 0.98685\n",
            "Epoch 39/40\n",
            "\n",
            "Epoch 00039: LearningRateScheduler setting learning rate to 0.0002286237.\n",
            "200/200 [==============================] - 6s 32ms/step - loss: 0.1015 - acc: 0.9783 - val_loss: 0.0807 - val_acc: 0.9840\n",
            "\n",
            "Epoch 00039: val_acc did not improve from 0.98685\n",
            "Epoch 40/40\n",
            "\n",
            "Epoch 00040: LearningRateScheduler setting learning rate to 0.0002231977.\n",
            "200/200 [==============================] - 6s 32ms/step - loss: 0.1010 - acc: 0.9792 - val_loss: 0.0758 - val_acc: 0.9855\n",
            "\n",
            "Epoch 00040: val_acc did not improve from 0.98685\n"
          ],
          "name": "stdout"
        },
        {
          "output_type": "execute_result",
          "data": {
            "text/plain": [
              "<keras.callbacks.History at 0x7f2660f167b8>"
            ]
          },
          "metadata": {
            "tags": []
          },
          "execution_count": 60
        }
      ]
    },
    {
      "cell_type": "code",
      "metadata": {
        "id": "WLxlW9ufyQiO",
        "colab_type": "code",
        "colab": {}
      },
      "source": [
        "\n",
        "score = model.evaluate_generator(test_iterator,steps=200)"
      ],
      "execution_count": 0,
      "outputs": []
    },
    {
      "cell_type": "code",
      "metadata": {
        "id": "mCOGXtFRRe7p",
        "colab_type": "code",
        "outputId": "2f17a29b-faec-4c89-a6a0-fb2982d224da",
        "colab": {
          "base_uri": "https://localhost:8080/",
          "height": 34
        }
      },
      "source": [
        "print(score)"
      ],
      "execution_count": 62,
      "outputs": [
        {
          "output_type": "stream",
          "text": [
            "[0.07476587435668539, 0.9857170846768681]\n"
          ],
          "name": "stdout"
        }
      ]
    },
    {
      "cell_type": "code",
      "metadata": {
        "id": "2oCQQKTtRhUc",
        "colab_type": "code",
        "outputId": "ddcc4f03-43b6-4050-d895-618692593cb8",
        "colab": {
          "base_uri": "https://localhost:8080/",
          "height": 34
        }
      },
      "source": [
        "count = model.predict_generator(test_iterator,600)\n",
        "print(count.shape)"
      ],
      "execution_count": 63,
      "outputs": [
        {
          "output_type": "stream",
          "text": [
            "(153280, 10)\n"
          ],
          "name": "stdout"
        }
      ]
    },
    {
      "cell_type": "code",
      "metadata": {
        "id": "5wO_6Wn8RklR",
        "colab_type": "code",
        "colab": {}
      },
      "source": [
        "predicted_classes = model.predict_classes(X_test)"
      ],
      "execution_count": 0,
      "outputs": []
    },
    {
      "cell_type": "code",
      "metadata": {
        "id": "s7D6BBL7Rp0v",
        "colab_type": "code",
        "outputId": "e7e52f28-2801-42ab-e0b8-14e85fc63b97",
        "colab": {
          "base_uri": "https://localhost:8080/",
          "height": 52
        }
      },
      "source": [
        "print(predicted_classes)\n",
        "print(len(predicted_classes))"
      ],
      "execution_count": 65,
      "outputs": [
        {
          "output_type": "stream",
          "text": [
            "[7 1 1 ... 1 5 6]\n",
            "10000\n"
          ],
          "name": "stdout"
        }
      ]
    },
    {
      "cell_type": "code",
      "metadata": {
        "id": "hf0VMMBDRtSn",
        "colab_type": "code",
        "colab": {}
      },
      "source": [
        "X_train = X_train.reshape(X_train.shape[0], 28, 28)\n",
        "X_test = X_test.reshape(X_test.shape[0], 28, 28)"
      ],
      "execution_count": 0,
      "outputs": []
    },
    {
      "cell_type": "code",
      "metadata": {
        "id": "pdybYjTvRyj9",
        "colab_type": "code",
        "outputId": "3b6ec2d1-4712-49b7-ccc8-b32a41f51c63",
        "colab": {
          "base_uri": "https://localhost:8080/",
          "height": 286
        }
      },
      "source": [
        "\"\"\"\n",
        "Printing 10 images in a subplot. \n",
        "\"\"\"\n",
        "print (X_train.shape)\n",
        "\n",
        "fig, ax = plt.subplots(nrows=5, ncols=5)\n",
        "\n",
        "i = 0\n",
        "\n",
        "for row in ax:\n",
        "\tfor col in row:\n",
        "\t\tif i < 100:\n",
        "\t\t\tcol.imshow(X_train[i].astype(int))\n",
        "\t\t\ti += 1"
      ],
      "execution_count": 67,
      "outputs": [
        {
          "output_type": "stream",
          "text": [
            "(60000, 28, 28)\n"
          ],
          "name": "stdout"
        },
        {
          "output_type": "display_data",
          "data": {
            "image/png": "[encoded data removed]",
            "text/plain": [
              "<Figure size 432x288 with 25 Axes>"
            ]
          },
          "metadata": {
            "tags": []
          }
        }
      ]
    },
    {
      "cell_type": "code",
      "metadata": {
        "id": "XgVNLwCZR0Ds",
        "colab_type": "code",
        "outputId": "81140834-512f-4bfb-f487-a68285864911",
        "colab": {
          "base_uri": "https://localhost:8080/",
          "height": 52
        }
      },
      "source": [
        "correct = np.nonzero(predicted_classes==y_test)\n",
        "print(correct)\n",
        "print(len(correct))"
      ],
      "execution_count": 68,
      "outputs": [
        {
          "output_type": "stream",
          "text": [
            "(array([   0,    2,    3, ..., 9996, 9998, 9999]),)\n",
            "1\n"
          ],
          "name": "stdout"
        }
      ]
    },
    {
      "cell_type": "code",
      "metadata": {
        "id": "fJQXfH0jR3l0",
        "colab_type": "code",
        "outputId": "93070eea-bfdf-4b8e-d7a8-613a3911e054",
        "colab": {
          "base_uri": "https://localhost:8080/",
          "height": 34
        }
      },
      "source": [
        "incorrect = np.nonzero(predicted_classes!=y_test)\n",
        "print(incorrect)"
      ],
      "execution_count": 69,
      "outputs": [
        {
          "output_type": "stream",
          "text": [
            "(array([   1,   20,   38, ..., 9992, 9995, 9997]),)\n"
          ],
          "name": "stdout"
        }
      ]
    },
    {
      "cell_type": "code",
      "metadata": {
        "id": "SU0jJiunR500",
        "colab_type": "code",
        "outputId": "18023c55-a0d1-4434-83f4-13c92f393d60",
        "colab": {
          "base_uri": "https://localhost:8080/",
          "height": 52
        }
      },
      "source": [
        "arincorr = incorrect[0][0:25]\n",
        "arincorr"
      ],
      "execution_count": 70,
      "outputs": [
        {
          "output_type": "execute_result",
          "data": {
            "text/plain": [
              "array([  1,  20,  38,  42,  43,  44,  50,  59,  61,  65,  66,  73,  77,\n",
              "        78,  81,  84,  88,  92,  93, 104, 108, 110, 111, 116, 118])"
            ]
          },
          "metadata": {
            "tags": []
          },
          "execution_count": 70
        }
      ]
    },
    {
      "cell_type": "code",
      "metadata": {
        "id": "KzQXGkChR8Wc",
        "colab_type": "code",
        "outputId": "57b6ca42-7f84-403e-b9d9-002520c6d147",
        "colab": {
          "base_uri": "https://localhost:8080/",
          "height": 3003
        }
      },
      "source": [
        "X_test[3].reshape(28,28)"
      ],
      "execution_count": 71,
      "outputs": [
        {
          "output_type": "execute_result",
          "data": {
            "text/plain": [
              "array([[0.        , 0.        , 0.        , 0.        , 0.        ,\n",
              "        0.        , 0.        , 0.        , 0.        , 0.        ,\n",
              "        0.        , 0.        , 0.        , 0.        , 0.        ,\n",
              "        0.        , 0.        , 0.        , 0.        , 0.        ,\n",
              "        0.        , 0.        , 0.        , 0.        , 0.        ,\n",
              "        0.        , 0.        , 0.        ],\n",
              "       [0.        , 0.        , 0.        , 0.        , 0.        ,\n",
              "        0.        , 0.        , 0.        , 0.        , 0.        ,\n",
              "        0.        , 0.        , 0.        , 0.        , 0.        ,\n",
              "        0.        , 0.        , 0.        , 0.        , 0.        ,\n",
              "        0.        , 0.        , 0.        , 0.        , 0.        ,\n",
              "        0.        , 0.        , 0.        ],\n",
              "       [0.        , 0.        , 0.        , 0.        , 0.        ,\n",
              "        0.        , 0.        , 0.        , 0.        , 0.        ,\n",
              "        0.        , 0.        , 0.        , 0.        , 0.        ,\n",
              "        0.        , 0.        , 0.        , 0.        , 0.        ,\n",
              "        0.        , 0.        , 0.        , 0.        , 0.        ,\n",
              "        0.        , 0.        , 0.        ],\n",
              "       [0.        , 0.        , 0.        , 0.        , 0.        ,\n",
              "        0.        , 0.        , 0.        , 0.        , 0.        ,\n",
              "        0.        , 0.        , 0.        , 0.        , 0.        ,\n",
              "        0.        , 0.        , 0.        , 0.        , 0.        ,\n",
              "        0.        , 0.        , 0.        , 0.        , 0.        ,\n",
              "        0.        , 0.        , 0.        ],\n",
              "       [0.        , 0.        , 0.        , 0.        , 0.        ,\n",
              "        0.        , 0.        , 0.        , 0.        , 0.        ,\n",
              "        0.        , 0.        , 0.04313726, 0.5882353 , 0.99215686,\n",
              "        0.7921569 , 0.12156863, 0.        , 0.        , 0.        ,\n",
              "        0.        , 0.        , 0.        , 0.        , 0.        ,\n",
              "        0.        , 0.        , 0.        ],\n",
              "       [0.        , 0.        , 0.        , 0.        , 0.        ,\n",
              "        0.        , 0.        , 0.        , 0.        , 0.        ,\n",
              "        0.        , 0.        , 0.14509805, 0.9843137 , 0.9843137 ,\n",
              "        0.99215686, 0.41960785, 0.        , 0.        , 0.        ,\n",
              "        0.        , 0.        , 0.        , 0.        , 0.        ,\n",
              "        0.        , 0.        , 0.        ],\n",
              "       [0.        , 0.        , 0.        , 0.        , 0.        ,\n",
              "        0.        , 0.        , 0.        , 0.        , 0.        ,\n",
              "        0.        , 0.08235294, 0.77254903, 0.9843137 , 0.9843137 ,\n",
              "        0.99215686, 0.41960785, 0.        , 0.        , 0.        ,\n",
              "        0.        , 0.        , 0.        , 0.        , 0.        ,\n",
              "        0.        , 0.        , 0.        ],\n",
              "       [0.        , 0.        , 0.        , 0.        , 0.        ,\n",
              "        0.        , 0.        , 0.        , 0.        , 0.        ,\n",
              "        0.43137255, 0.74509805, 0.9843137 , 0.9843137 , 0.9843137 ,\n",
              "        0.99215686, 0.6627451 , 0.42745098, 0.24313726, 0.        ,\n",
              "        0.        , 0.        , 0.        , 0.        , 0.        ,\n",
              "        0.        , 0.        , 0.        ],\n",
              "       [0.        , 0.        , 0.        , 0.        , 0.        ,\n",
              "        0.        , 0.        , 0.        , 0.        , 0.        ,\n",
              "        0.99215686, 0.9843137 , 0.9843137 , 0.9843137 , 0.9843137 ,\n",
              "        0.99215686, 0.9843137 , 0.9843137 , 0.8627451 , 0.2       ,\n",
              "        0.        , 0.        , 0.        , 0.        , 0.        ,\n",
              "        0.        , 0.        , 0.        ],\n",
              "       [0.        , 0.        , 0.        , 0.        , 0.        ,\n",
              "        0.        , 0.        , 0.        , 0.        , 0.7137255 ,\n",
              "        1.        , 0.99215686, 0.99215686, 0.99215686, 0.99215686,\n",
              "        0.91764706, 0.87058824, 0.99215686, 0.99215686, 0.99215686,\n",
              "        0.        , 0.        , 0.        , 0.        , 0.        ,\n",
              "        0.        , 0.        , 0.        ],\n",
              "       [0.        , 0.        , 0.        , 0.        , 0.        ,\n",
              "        0.        , 0.        , 0.        , 0.24705882, 0.8666667 ,\n",
              "        0.99215686, 0.9843137 , 0.9843137 , 0.9843137 , 0.5764706 ,\n",
              "        0.3019608 , 0.24313726, 0.5019608 , 0.9843137 , 0.9843137 ,\n",
              "        0.4117647 , 0.        , 0.        , 0.        , 0.        ,\n",
              "        0.        , 0.        , 0.        ],\n",
              "       [0.        , 0.        , 0.        , 0.        , 0.        ,\n",
              "        0.        , 0.        , 0.1254902 , 0.90588236, 0.9843137 ,\n",
              "        0.99215686, 0.9843137 , 0.8627451 , 0.5372549 , 0.03921569,\n",
              "        0.        , 0.        , 0.12156863, 0.9019608 , 0.9843137 ,\n",
              "        0.9529412 , 0.44313726, 0.01960784, 0.        , 0.        ,\n",
              "        0.        , 0.        , 0.        ],\n",
              "       [0.        , 0.        , 0.        , 0.        , 0.        ,\n",
              "        0.        , 0.        , 0.14509805, 0.9843137 , 0.9843137 ,\n",
              "        0.99215686, 0.7372549 , 0.07843138, 0.        , 0.        ,\n",
              "        0.        , 0.        , 0.        , 0.42745098, 0.9843137 ,\n",
              "        0.99215686, 0.9843137 , 0.13725491, 0.        , 0.        ,\n",
              "        0.        , 0.        , 0.        ],\n",
              "       [0.        , 0.        , 0.        , 0.        , 0.        ,\n",
              "        0.        , 0.        , 0.14509805, 0.9843137 , 0.9843137 ,\n",
              "        0.7882353 , 0.11764706, 0.        , 0.        , 0.        ,\n",
              "        0.        , 0.        , 0.        , 0.12156863, 0.78431374,\n",
              "        0.99215686, 0.9843137 , 0.13725491, 0.        , 0.        ,\n",
              "        0.        , 0.        , 0.        ],\n",
              "       [0.        , 0.        , 0.        , 0.        , 0.        ,\n",
              "        0.        , 0.        , 0.14509805, 0.99215686, 0.99215686,\n",
              "        0.        , 0.        , 0.        , 0.        , 0.        ,\n",
              "        0.        , 0.        , 0.        , 0.1254902 , 0.7921569 ,\n",
              "        1.        , 0.99215686, 0.6431373 , 0.        , 0.        ,\n",
              "        0.        , 0.        , 0.        ],\n",
              "       [0.        , 0.        , 0.        , 0.        , 0.        ,\n",
              "        0.        , 0.        , 0.54901963, 0.9843137 , 0.9843137 ,\n",
              "        0.        , 0.        , 0.        , 0.        , 0.        ,\n",
              "        0.        , 0.        , 0.        , 0.42745098, 0.9843137 ,\n",
              "        0.99215686, 0.9843137 , 0.13725491, 0.        , 0.        ,\n",
              "        0.        , 0.        , 0.        ],\n",
              "       [0.        , 0.        , 0.        , 0.        , 0.        ,\n",
              "        0.        , 0.        , 0.8509804 , 0.9843137 , 0.9843137 ,\n",
              "        0.        , 0.        , 0.        , 0.        , 0.        ,\n",
              "        0.        , 0.08235294, 0.24705882, 0.90588236, 0.9843137 ,\n",
              "        0.99215686, 0.9019608 , 0.11764706, 0.        , 0.        ,\n",
              "        0.        , 0.        , 0.        ],\n",
              "       [0.        , 0.        , 0.        , 0.        , 0.        ,\n",
              "        0.        , 0.        , 0.8509804 , 0.9843137 , 0.9843137 ,\n",
              "        0.        , 0.        , 0.        , 0.        , 0.        ,\n",
              "        0.        , 0.5647059 , 0.9843137 , 0.9843137 , 0.9843137 ,\n",
              "        0.8666667 , 0.23921569, 0.        , 0.        , 0.        ,\n",
              "        0.        , 0.        , 0.        ],\n",
              "       [0.        , 0.        , 0.        , 0.        , 0.        ,\n",
              "        0.        , 0.        , 0.8509804 , 0.9843137 , 0.9843137 ,\n",
              "        0.        , 0.        , 0.        , 0.        , 0.        ,\n",
              "        0.7137255 , 0.8666667 , 0.9843137 , 0.9843137 , 0.9843137 ,\n",
              "        0.7058824 , 0.        , 0.        , 0.        , 0.        ,\n",
              "        0.        , 0.        , 0.        ],\n",
              "       [0.        , 0.        , 0.        , 0.        , 0.        ,\n",
              "        0.        , 0.        , 0.85490197, 0.99215686, 0.99215686,\n",
              "        0.28627452, 0.28627452, 0.89411765, 0.99215686, 0.99215686,\n",
              "        1.        , 0.99215686, 0.99215686, 0.99215686, 0.99215686,\n",
              "        0.        , 0.        , 0.        , 0.        , 0.        ,\n",
              "        0.        , 0.        , 0.        ],\n",
              "       [0.        , 0.        , 0.        , 0.        , 0.        ,\n",
              "        0.        , 0.        , 0.44313726, 0.9843137 , 0.9843137 ,\n",
              "        0.99215686, 0.9843137 , 0.9843137 , 0.9843137 , 0.9843137 ,\n",
              "        0.99215686, 0.9843137 , 0.9843137 , 0.9843137 , 0.5764706 ,\n",
              "        0.        , 0.        , 0.        , 0.        , 0.        ,\n",
              "        0.        , 0.        , 0.        ],\n",
              "       [0.        , 0.        , 0.        , 0.        , 0.        ,\n",
              "        0.        , 0.        , 0.12156863, 0.9019608 , 0.9843137 ,\n",
              "        0.99215686, 0.9843137 , 0.9843137 , 0.9843137 , 0.9843137 ,\n",
              "        0.99215686, 0.9019608 , 0.7411765 , 0.13725491, 0.03921569,\n",
              "        0.        , 0.        , 0.        , 0.        , 0.        ,\n",
              "        0.        , 0.        , 0.        ],\n",
              "       [0.        , 0.        , 0.        , 0.        , 0.        ,\n",
              "        0.        , 0.        , 0.        , 0.24313726, 0.5568628 ,\n",
              "        0.99215686, 0.9843137 , 0.9843137 , 0.9843137 , 0.9843137 ,\n",
              "        0.99215686, 0.41960785, 0.        , 0.        , 0.        ,\n",
              "        0.        , 0.        , 0.        , 0.        , 0.        ,\n",
              "        0.        , 0.        , 0.        ],\n",
              "       [0.        , 0.        , 0.        , 0.        , 0.        ,\n",
              "        0.        , 0.        , 0.        , 0.        , 0.        ,\n",
              "        0.28235295, 0.68235296, 0.9843137 , 0.6784314 , 0.2784314 ,\n",
              "        0.28235295, 0.11764706, 0.        , 0.        , 0.        ,\n",
              "        0.        , 0.        , 0.        , 0.        , 0.        ,\n",
              "        0.        , 0.        , 0.        ],\n",
              "       [0.        , 0.        , 0.        , 0.        , 0.        ,\n",
              "        0.        , 0.        , 0.        , 0.        , 0.        ,\n",
              "        0.        , 0.        , 0.        , 0.        , 0.        ,\n",
              "        0.        , 0.        , 0.        , 0.        , 0.        ,\n",
              "        0.        , 0.        , 0.        , 0.        , 0.        ,\n",
              "        0.        , 0.        , 0.        ],\n",
              "       [0.        , 0.        , 0.        , 0.        , 0.        ,\n",
              "        0.        , 0.        , 0.        , 0.        , 0.        ,\n",
              "        0.        , 0.        , 0.        , 0.        , 0.        ,\n",
              "        0.        , 0.        , 0.        , 0.        , 0.        ,\n",
              "        0.        , 0.        , 0.        , 0.        , 0.        ,\n",
              "        0.        , 0.        , 0.        ],\n",
              "       [0.        , 0.        , 0.        , 0.        , 0.        ,\n",
              "        0.        , 0.        , 0.        , 0.        , 0.        ,\n",
              "        0.        , 0.        , 0.        , 0.        , 0.        ,\n",
              "        0.        , 0.        , 0.        , 0.        , 0.        ,\n",
              "        0.        , 0.        , 0.        , 0.        , 0.        ,\n",
              "        0.        , 0.        , 0.        ],\n",
              "       [0.        , 0.        , 0.        , 0.        , 0.        ,\n",
              "        0.        , 0.        , 0.        , 0.        , 0.        ,\n",
              "        0.        , 0.        , 0.        , 0.        , 0.        ,\n",
              "        0.        , 0.        , 0.        , 0.        , 0.        ,\n",
              "        0.        , 0.        , 0.        , 0.        , 0.        ,\n",
              "        0.        , 0.        , 0.        ]], dtype=float32)"
            ]
          },
          "metadata": {
            "tags": []
          },
          "execution_count": 71
        }
      ]
    },
    {
      "cell_type": "code",
      "metadata": {
        "id": "_KfW1KpfR-dx",
        "colab_type": "code",
        "outputId": "0c536de1-2125-40f1-a931-bda2dc715b6d",
        "colab": {
          "base_uri": "https://localhost:8080/",
          "height": 281
        }
      },
      "source": [
        "import matplotlib.pyplot as plt\n",
        "import numpy as np\n",
        "\n",
        "plt.figure(0)\n",
        "plots = []\n",
        "count = 0\n",
        "for i in range(5):\n",
        "    for j in range(5):\n",
        "        ax = plt.subplot2grid((5,5), (i,j))\n",
        "        plt.imshow(X_test[arincorr[count]].reshape(28,28),cmap='gray',interpolation='none')\n",
        "        plt.title(\"Predicted {}, Class {}\".format(predicted_classes[arincorr[count]], y_test[arincorr[count]]))\n",
        "        count = count+1\n",
        "plt.show() "
      ],
      "execution_count": 72,
      "outputs": [
        {
          "output_type": "display_data",
          "data": {
            "image/png": "[encoded data removed]",
            "text/plain": [
              "<Figure size 432x288 with 25 Axes>"
            ]
          },
          "metadata": {
            "tags": []
          }
        }
      ]
    }
  ]
}