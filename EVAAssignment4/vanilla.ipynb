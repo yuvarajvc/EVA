{
  "nbformat": 4,
  "nbformat_minor": 0,
  "metadata": {
    "colab": {
      "name": "Untitled0.ipynb",
      "version": "0.3.2",
      "provenance": []
    },
    "kernelspec": {
      "name": "python3",
      "display_name": "Python 3"
    }
  },
  "cells": [
    {
      "cell_type": "code",
      "metadata": {
        "id": "ZRb_hc6msxz2",
        "colab_type": "code",
        "colab": {
          "base_uri": "https://localhost:8080/",
          "height": 34
        },
        "outputId": "cc2034c7-05ac-446c-d1e9-5b843fa97d97"
      },
      "source": [
        "# https://keras.io/\n",
        "!pip install -q keras\n",
        "import keras"
      ],
      "execution_count": 1,
      "outputs": [
        {
          "output_type": "stream",
          "text": [
            "Using TensorFlow backend.\n"
          ],
          "name": "stderr"
        }
      ]
    },
    {
      "cell_type": "code",
      "metadata": {
        "id": "surFu7uFGJ-5",
        "colab_type": "code",
        "colab": {}
      },
      "source": [
        "import numpy as np\n",
        "\n",
        "from keras.models import Sequential\n",
        "from keras.layers import Dense, Dropout, Activation, Flatten, Add\n",
        "from keras.layers import Convolution2D, MaxPooling2D\n",
        "from keras.utils import np_utils\n",
        "\n",
        "from keras.datasets import mnist"
      ],
      "execution_count": 0,
      "outputs": []
    },
    {
      "cell_type": "code",
      "metadata": {
        "id": "H9EEdbVKGON3",
        "colab_type": "code",
        "colab": {
          "base_uri": "https://localhost:8080/",
          "height": 51
        },
        "outputId": "e7dd0154-504f-4e13-b16b-95ce2ce52ce1"
      },
      "source": [
        "(X_train, y_train), (X_test, y_test) = mnist.load_data()"
      ],
      "execution_count": 3,
      "outputs": [
        {
          "output_type": "stream",
          "text": [
            "Downloading data from https://s3.amazonaws.com/img-datasets/mnist.npz\n",
            "11493376/11490434 [==============================] - 0s 0us/step\n"
          ],
          "name": "stdout"
        }
      ]
    },
    {
      "cell_type": "code",
      "metadata": {
        "id": "w50hh4k-GTX4",
        "colab_type": "code",
        "colab": {
          "base_uri": "https://localhost:8080/",
          "height": 303
        },
        "outputId": "74f67411-c431-486c-e4b1-44ca31f5f8a4"
      },
      "source": [
        "print (X_train.shape)\n",
        "from matplotlib import pyplot as plt\n",
        "%matplotlib inline\n",
        "plt.imshow(X_train[0])"
      ],
      "execution_count": 4,
      "outputs": [
        {
          "output_type": "stream",
          "text": [
            "(60000, 28, 28)\n"
          ],
          "name": "stdout"
        },
        {
          "output_type": "execute_result",
          "data": {
            "text/plain": [
              "<matplotlib.image.AxesImage at 0x7fe00e046518>"
            ]
          },
          "metadata": {
            "tags": []
          },
          "execution_count": 4
        },
        {
          "output_type": "display_data",
          "data": {
            "image/png": "[encoded data removed]",
            "text/plain": [
              "<Figure size 432x288 with 1 Axes>"
            ]
          },
          "metadata": {
            "tags": []
          }
        }
      ]
    },
    {
      "cell_type": "code",
      "metadata": {
        "id": "X7yHpoM_GX6Y",
        "colab_type": "code",
        "colab": {}
      },
      "source": [
        "X_train = X_train.reshape(X_train.shape[0], 28, 28,1)\n",
        "X_test = X_test.reshape(X_test.shape[0], 28, 28,1)"
      ],
      "execution_count": 0,
      "outputs": []
    },
    {
      "cell_type": "code",
      "metadata": {
        "id": "JNiRwMfjGaVu",
        "colab_type": "code",
        "colab": {}
      },
      "source": [
        "X_train = X_train.astype('float32')\n",
        "X_test = X_test.astype('float32')\n",
        "X_train /= 255\n",
        "X_test /= 255"
      ],
      "execution_count": 0,
      "outputs": []
    },
    {
      "cell_type": "code",
      "metadata": {
        "id": "9MbENfqzGcGq",
        "colab_type": "code",
        "colab": {
          "base_uri": "https://localhost:8080/",
          "height": 34
        },
        "outputId": "856779e3-adc0-4984-eb9c-3a4ef3584047"
      },
      "source": [
        "y_train[:10]"
      ],
      "execution_count": 7,
      "outputs": [
        {
          "output_type": "execute_result",
          "data": {
            "text/plain": [
              "array([5, 0, 4, 1, 9, 2, 1, 3, 1, 4], dtype=uint8)"
            ]
          },
          "metadata": {
            "tags": []
          },
          "execution_count": 7
        }
      ]
    },
    {
      "cell_type": "code",
      "metadata": {
        "id": "YPxaxOhpGed6",
        "colab_type": "code",
        "colab": {}
      },
      "source": [
        "# Convert 1-dimensional class arrays to 10-dimensional class matrices\n",
        "Y_train = np_utils.to_categorical(y_train, 10)\n",
        "Y_test = np_utils.to_categorical(y_test, 10)"
      ],
      "execution_count": 0,
      "outputs": []
    },
    {
      "cell_type": "code",
      "metadata": {
        "id": "uGhBWSo_Ggrh",
        "colab_type": "code",
        "colab": {
          "base_uri": "https://localhost:8080/",
          "height": 187
        },
        "outputId": "c6b85292-9e8f-4b6f-a654-e069b9c3fcf1"
      },
      "source": [
        "Y_train[:10]\n"
      ],
      "execution_count": 9,
      "outputs": [
        {
          "output_type": "execute_result",
          "data": {
            "text/plain": [
              "array([[0., 0., 0., 0., 0., 1., 0., 0., 0., 0.],\n",
              "       [1., 0., 0., 0., 0., 0., 0., 0., 0., 0.],\n",
              "       [0., 0., 0., 0., 1., 0., 0., 0., 0., 0.],\n",
              "       [0., 1., 0., 0., 0., 0., 0., 0., 0., 0.],\n",
              "       [0., 0., 0., 0., 0., 0., 0., 0., 0., 1.],\n",
              "       [0., 0., 1., 0., 0., 0., 0., 0., 0., 0.],\n",
              "       [0., 1., 0., 0., 0., 0., 0., 0., 0., 0.],\n",
              "       [0., 0., 0., 1., 0., 0., 0., 0., 0., 0.],\n",
              "       [0., 1., 0., 0., 0., 0., 0., 0., 0., 0.],\n",
              "       [0., 0., 0., 0., 1., 0., 0., 0., 0., 0.]], dtype=float32)"
            ]
          },
          "metadata": {
            "tags": []
          },
          "execution_count": 9
        }
      ]
    },
    {
      "cell_type": "code",
      "metadata": {
        "id": "RtzBAe84GjeJ",
        "colab_type": "code",
        "colab": {
          "base_uri": "https://localhost:8080/",
          "height": 207
        },
        "outputId": "f8d398e6-6448-4da6-98f7-b13a8d29c177"
      },
      "source": [
        "from keras.layers import Activation\n",
        "model = Sequential()\n",
        "\n",
        "model.add(Convolution2D(32, 3, 3, activation='relu', input_shape=(28,28,1))) #26\n",
        "\n",
        "model.add(Convolution2D(16, 3, 3, activation='relu')) #24\n",
        "model.add(Convolution2D(16, 1,1, activation='relu'))\n",
        "model.add(MaxPooling2D(pool_size=(2, 2))) #12\n",
        "#model.add(Dropout(0.13))\n",
        "\n",
        "model.add(Convolution2D(16, 3, 3, activation='relu')) #10\n",
        "\n",
        "model.add(Convolution2D(16, 3, 3, activation='relu')) #8\n",
        "model.add(MaxPooling2D(pool_size=(2, 2))) #4\n",
        "#model.add(Dropout(0.13))\n",
        "\n",
        "model.add(Convolution2D(10, 4))\n",
        "model.add(Flatten())\n",
        "model.add(Activation('softmax'))"
      ],
      "execution_count": 14,
      "outputs": [
        {
          "output_type": "stream",
          "text": [
            "/usr/local/lib/python3.6/dist-packages/ipykernel_launcher.py:4: UserWarning: Update your `Conv2D` call to the Keras 2 API: `Conv2D(32, (3, 3), activation=\"relu\", input_shape=(28, 28, 1...)`\n",
            "  after removing the cwd from sys.path.\n",
            "/usr/local/lib/python3.6/dist-packages/ipykernel_launcher.py:6: UserWarning: Update your `Conv2D` call to the Keras 2 API: `Conv2D(16, (3, 3), activation=\"relu\")`\n",
            "  \n",
            "/usr/local/lib/python3.6/dist-packages/ipykernel_launcher.py:7: UserWarning: Update your `Conv2D` call to the Keras 2 API: `Conv2D(16, (1, 1), activation=\"relu\")`\n",
            "  import sys\n",
            "/usr/local/lib/python3.6/dist-packages/ipykernel_launcher.py:11: UserWarning: Update your `Conv2D` call to the Keras 2 API: `Conv2D(16, (3, 3), activation=\"relu\")`\n",
            "  # This is added back by InteractiveShellApp.init_path()\n",
            "/usr/local/lib/python3.6/dist-packages/ipykernel_launcher.py:13: UserWarning: Update your `Conv2D` call to the Keras 2 API: `Conv2D(16, (3, 3), activation=\"relu\")`\n",
            "  del sys.path[0]\n"
          ],
          "name": "stderr"
        }
      ]
    },
    {
      "cell_type": "code",
      "metadata": {
        "id": "_SKiaunhG2hs",
        "colab_type": "code",
        "colab": {
          "base_uri": "https://localhost:8080/",
          "height": 476
        },
        "outputId": "d0a1e12b-5cdc-4a14-e7cc-d1d8b32aca76"
      },
      "source": [
        "model.summary()"
      ],
      "execution_count": 15,
      "outputs": [
        {
          "output_type": "stream",
          "text": [
            "_________________________________________________________________\n",
            "Layer (type)                 Output Shape              Param #   \n",
            "=================================================================\n",
            "conv2d_9 (Conv2D)            (None, 26, 26, 32)        320       \n",
            "_________________________________________________________________\n",
            "conv2d_10 (Conv2D)           (None, 24, 24, 16)        4624      \n",
            "_________________________________________________________________\n",
            "conv2d_11 (Conv2D)           (None, 24, 24, 16)        272       \n",
            "_________________________________________________________________\n",
            "max_pooling2d_2 (MaxPooling2 (None, 12, 12, 16)        0         \n",
            "_________________________________________________________________\n",
            "conv2d_12 (Conv2D)           (None, 10, 10, 16)        2320      \n",
            "_________________________________________________________________\n",
            "conv2d_13 (Conv2D)           (None, 8, 8, 16)          2320      \n",
            "_________________________________________________________________\n",
            "max_pooling2d_3 (MaxPooling2 (None, 4, 4, 16)          0         \n",
            "_________________________________________________________________\n",
            "conv2d_14 (Conv2D)           (None, 1, 1, 10)          2570      \n",
            "_________________________________________________________________\n",
            "flatten_2 (Flatten)          (None, 10)                0         \n",
            "_________________________________________________________________\n",
            "activation_2 (Activation)    (None, 10)                0         \n",
            "=================================================================\n",
            "Total params: 12,426\n",
            "Trainable params: 12,426\n",
            "Non-trainable params: 0\n",
            "_________________________________________________________________\n"
          ],
          "name": "stdout"
        }
      ]
    },
    {
      "cell_type": "code",
      "metadata": {
        "id": "6g4CW5wOG467",
        "colab_type": "code",
        "colab": {}
      },
      "source": [
        "model.compile(loss='categorical_crossentropy',\n",
        "             optimizer='adam',\n",
        "             metrics=['accuracy'])"
      ],
      "execution_count": 0,
      "outputs": []
    },
    {
      "cell_type": "code",
      "metadata": {
        "id": "1uJYcuvkG9iP",
        "colab_type": "code",
        "colab": {
          "base_uri": "https://localhost:8080/",
          "height": 1516
        },
        "outputId": "f4bd48f2-91db-4563-f9f7-d1d4989faf21"
      },
      "source": [
        "model.fit(X_train, Y_train, batch_size=32, nb_epoch=40, verbose=1,validation_data=(X_test, Y_test))"
      ],
      "execution_count": 17,
      "outputs": [
        {
          "output_type": "stream",
          "text": [
            "WARNING:tensorflow:From /usr/local/lib/python3.6/dist-packages/tensorflow/python/ops/math_ops.py:3066: to_int32 (from tensorflow.python.ops.math_ops) is deprecated and will be removed in a future version.\n",
            "Instructions for updating:\n",
            "Use tf.cast instead.\n"
          ],
          "name": "stdout"
        },
        {
          "output_type": "stream",
          "text": [
            "/usr/local/lib/python3.6/dist-packages/ipykernel_launcher.py:1: UserWarning: The `nb_epoch` argument in `fit` has been renamed `epochs`.\n",
            "  \"\"\"Entry point for launching an IPython kernel.\n"
          ],
          "name": "stderr"
        },
        {
          "output_type": "stream",
          "text": [
            "Train on 60000 samples, validate on 10000 samples\n",
            "Epoch 1/40\n",
            "60000/60000 [==============================] - 120s 2ms/step - loss: 0.1935 - acc: 0.9389 - val_loss: 0.0542 - val_acc: 0.9825\n",
            "Epoch 2/40\n",
            "60000/60000 [==============================] - 121s 2ms/step - loss: 0.0621 - acc: 0.9808 - val_loss: 0.0413 - val_acc: 0.9868\n",
            "Epoch 3/40\n",
            "60000/60000 [==============================] - 123s 2ms/step - loss: 0.0468 - acc: 0.9859 - val_loss: 0.0390 - val_acc: 0.9876\n",
            "Epoch 4/40\n",
            "60000/60000 [==============================] - 125s 2ms/step - loss: 0.0383 - acc: 0.9881 - val_loss: 0.0329 - val_acc: 0.9896\n",
            "Epoch 5/40\n",
            "60000/60000 [==============================] - 124s 2ms/step - loss: 0.0318 - acc: 0.9903 - val_loss: 0.0382 - val_acc: 0.9866\n",
            "Epoch 6/40\n",
            "60000/60000 [==============================] - 120s 2ms/step - loss: 0.0281 - acc: 0.9911 - val_loss: 0.0403 - val_acc: 0.9870\n",
            "Epoch 7/40\n",
            "60000/60000 [==============================] - 122s 2ms/step - loss: 0.0252 - acc: 0.9920 - val_loss: 0.0320 - val_acc: 0.9915\n",
            "Epoch 8/40\n",
            "60000/60000 [==============================] - 120s 2ms/step - loss: 0.0224 - acc: 0.9929 - val_loss: 0.0353 - val_acc: 0.9892\n",
            "Epoch 9/40\n",
            "60000/60000 [==============================] - 120s 2ms/step - loss: 0.0198 - acc: 0.9934 - val_loss: 0.0330 - val_acc: 0.9898\n",
            "Epoch 10/40\n",
            "60000/60000 [==============================] - 120s 2ms/step - loss: 0.0181 - acc: 0.9939 - val_loss: 0.0482 - val_acc: 0.9872\n",
            "Epoch 11/40\n",
            "60000/60000 [==============================] - 120s 2ms/step - loss: 0.0172 - acc: 0.9945 - val_loss: 0.0295 - val_acc: 0.9911\n",
            "Epoch 12/40\n",
            "60000/60000 [==============================] - 120s 2ms/step - loss: 0.0151 - acc: 0.9950 - val_loss: 0.0312 - val_acc: 0.9907\n",
            "Epoch 13/40\n",
            "60000/60000 [==============================] - 120s 2ms/step - loss: 0.0139 - acc: 0.9954 - val_loss: 0.0358 - val_acc: 0.9891\n",
            "Epoch 14/40\n",
            "60000/60000 [==============================] - 121s 2ms/step - loss: 0.0129 - acc: 0.9957 - val_loss: 0.0398 - val_acc: 0.9894\n",
            "Epoch 15/40\n",
            "60000/60000 [==============================] - 121s 2ms/step - loss: 0.0127 - acc: 0.9953 - val_loss: 0.0316 - val_acc: 0.9912\n",
            "Epoch 16/40\n",
            "60000/60000 [==============================] - 120s 2ms/step - loss: 0.0116 - acc: 0.9958 - val_loss: 0.0346 - val_acc: 0.9918\n",
            "Epoch 17/40\n",
            "60000/60000 [==============================] - 120s 2ms/step - loss: 0.0108 - acc: 0.9964 - val_loss: 0.0365 - val_acc: 0.9905\n",
            "Epoch 18/40\n",
            "60000/60000 [==============================] - 119s 2ms/step - loss: 0.0098 - acc: 0.9967 - val_loss: 0.0387 - val_acc: 0.9910\n",
            "Epoch 19/40\n",
            "60000/60000 [==============================] - 120s 2ms/step - loss: 0.0099 - acc: 0.9966 - val_loss: 0.0385 - val_acc: 0.9913\n",
            "Epoch 20/40\n",
            "60000/60000 [==============================] - 121s 2ms/step - loss: 0.0086 - acc: 0.9970 - val_loss: 0.0427 - val_acc: 0.9918\n",
            "Epoch 21/40\n",
            "60000/60000 [==============================] - 122s 2ms/step - loss: 0.0090 - acc: 0.9968 - val_loss: 0.0436 - val_acc: 0.9903\n",
            "Epoch 22/40\n",
            "60000/60000 [==============================] - 119s 2ms/step - loss: 0.0088 - acc: 0.9968 - val_loss: 0.0422 - val_acc: 0.9899\n",
            "Epoch 23/40\n",
            "60000/60000 [==============================] - 119s 2ms/step - loss: 0.0065 - acc: 0.9977 - val_loss: 0.0440 - val_acc: 0.9906\n",
            "Epoch 24/40\n",
            "60000/60000 [==============================] - 121s 2ms/step - loss: 0.0095 - acc: 0.9969 - val_loss: 0.0397 - val_acc: 0.9911\n",
            "Epoch 25/40\n",
            "60000/60000 [==============================] - 125s 2ms/step - loss: 0.0076 - acc: 0.9976 - val_loss: 0.0435 - val_acc: 0.9905\n",
            "Epoch 26/40\n",
            "60000/60000 [==============================] - 125s 2ms/step - loss: 0.0077 - acc: 0.9974 - val_loss: 0.0623 - val_acc: 0.9864\n",
            "Epoch 27/40\n",
            "60000/60000 [==============================] - 127s 2ms/step - loss: 0.0076 - acc: 0.9976 - val_loss: 0.0442 - val_acc: 0.9911\n",
            "Epoch 28/40\n",
            "60000/60000 [==============================] - 127s 2ms/step - loss: 0.0078 - acc: 0.9974 - val_loss: 0.0434 - val_acc: 0.9908\n",
            "Epoch 29/40\n",
            "60000/60000 [==============================] - 128s 2ms/step - loss: 0.0055 - acc: 0.9981 - val_loss: 0.0511 - val_acc: 0.9893\n",
            "Epoch 30/40\n",
            "60000/60000 [==============================] - 128s 2ms/step - loss: 0.0074 - acc: 0.9977 - val_loss: 0.0496 - val_acc: 0.9905\n",
            "Epoch 31/40\n",
            "60000/60000 [==============================] - 127s 2ms/step - loss: 0.0061 - acc: 0.9981 - val_loss: 0.0508 - val_acc: 0.9898\n",
            "Epoch 32/40\n",
            "60000/60000 [==============================] - 121s 2ms/step - loss: 0.0066 - acc: 0.9979 - val_loss: 0.0456 - val_acc: 0.9902\n",
            "Epoch 33/40\n",
            "60000/60000 [==============================] - 120s 2ms/step - loss: 0.0053 - acc: 0.9983 - val_loss: 0.0540 - val_acc: 0.9904\n",
            "Epoch 34/40\n",
            "60000/60000 [==============================] - 126s 2ms/step - loss: 0.0069 - acc: 0.9976 - val_loss: 0.0603 - val_acc: 0.9874\n",
            "Epoch 35/40\n",
            "60000/60000 [==============================] - 125s 2ms/step - loss: 0.0053 - acc: 0.9982 - val_loss: 0.0677 - val_acc: 0.9864\n",
            "Epoch 36/40\n",
            "60000/60000 [==============================] - 126s 2ms/step - loss: 0.0056 - acc: 0.9981 - val_loss: 0.0533 - val_acc: 0.9904\n",
            "Epoch 37/40\n",
            "60000/60000 [==============================] - 125s 2ms/step - loss: 0.0067 - acc: 0.9980 - val_loss: 0.0560 - val_acc: 0.9905\n",
            "Epoch 38/40\n",
            "60000/60000 [==============================] - 126s 2ms/step - loss: 0.0050 - acc: 0.9984 - val_loss: 0.0493 - val_acc: 0.9902\n",
            "Epoch 39/40\n",
            "60000/60000 [==============================] - 126s 2ms/step - loss: 0.0059 - acc: 0.9983 - val_loss: 0.0571 - val_acc: 0.9904\n",
            "Epoch 40/40\n",
            "60000/60000 [==============================] - 122s 2ms/step - loss: 0.0060 - acc: 0.9981 - val_loss: 0.0600 - val_acc: 0.9905\n"
          ],
          "name": "stdout"
        },
        {
          "output_type": "execute_result",
          "data": {
            "text/plain": [
              "<keras.callbacks.History at 0x7fe00ad27908>"
            ]
          },
          "metadata": {
            "tags": []
          },
          "execution_count": 17
        }
      ]
    },
    {
      "cell_type": "code",
      "metadata": {
        "id": "6Zf9uR4Akf6x",
        "colab_type": "code",
        "colab": {}
      },
      "source": [
        "score = model.evaluate(X_test, Y_test, verbose=0)"
      ],
      "execution_count": 0,
      "outputs": []
    },
    {
      "cell_type": "code",
      "metadata": {
        "id": "b-5-bBwlki2u",
        "colab_type": "code",
        "colab": {
          "base_uri": "https://localhost:8080/",
          "height": 34
        },
        "outputId": "c3f7bb8e-7e30-4d99-f0f6-eb886432cd45"
      },
      "source": [
        "print(score)"
      ],
      "execution_count": 19,
      "outputs": [
        {
          "output_type": "stream",
          "text": [
            "[0.05997535286572206, 0.9905]\n"
          ],
          "name": "stdout"
        }
      ]
    },
    {
      "cell_type": "code",
      "metadata": {
        "id": "phmKiVNNkluB",
        "colab_type": "code",
        "colab": {}
      },
      "source": [
        "y_pred = model.predict(X_test)"
      ],
      "execution_count": 0,
      "outputs": []
    },
    {
      "cell_type": "code",
      "metadata": {
        "id": "BgPRc2z7koqq",
        "colab_type": "code",
        "colab": {
          "base_uri": "https://localhost:8080/",
          "height": 493
        },
        "outputId": "66328699-faf7-4ec8-8bcd-f2c98c1ca9d3"
      },
      "source": [
        "print(y_pred[:9])\n",
        "print(y_test[:9])"
      ],
      "execution_count": 21,
      "outputs": [
        {
          "output_type": "stream",
          "text": [
            "[[4.59347663e-19 1.35021126e-18 1.12557910e-15 2.71703796e-15\n",
            "  3.36355552e-28 5.41133061e-24 1.25135517e-32 1.00000000e+00\n",
            "  3.41631603e-20 8.24544731e-15]\n",
            " [4.89165597e-25 9.58292313e-16 1.00000000e+00 3.58806548e-18\n",
            "  3.70451700e-27 3.45043637e-34 3.43124974e-17 7.41346407e-19\n",
            "  3.45226939e-17 1.86163022e-30]\n",
            " [1.86262439e-15 1.00000000e+00 9.81848804e-12 1.09052432e-15\n",
            "  2.82749135e-09 1.43771747e-14 7.38256637e-14 2.58905564e-09\n",
            "  4.24027220e-12 3.74895292e-14]\n",
            " [1.00000000e+00 1.17308572e-30 1.64005865e-15 5.37513207e-20\n",
            "  9.07705999e-21 1.30974397e-17 1.10865206e-09 8.03614419e-24\n",
            "  3.86745427e-11 5.30825180e-14]\n",
            " [3.25786026e-26 1.33616832e-31 1.47727122e-25 1.99540335e-29\n",
            "  1.00000000e+00 5.57036182e-24 4.32988186e-26 8.71917116e-29\n",
            "  1.00310902e-17 2.06234396e-14]\n",
            " [1.11997682e-15 1.00000000e+00 2.35888115e-10 1.09808723e-17\n",
            "  4.23793356e-09 2.20407630e-18 6.17367648e-13 2.44719855e-10\n",
            "  3.47697305e-12 1.01721454e-13]\n",
            " [1.98966625e-35 2.63976194e-21 1.52043820e-23 1.15519716e-32\n",
            "  1.00000000e+00 1.86655224e-21 8.63282786e-28 9.29894291e-22\n",
            "  5.18904852e-13 6.72693661e-16]\n",
            " [3.23170262e-29 1.63876784e-19 9.57351060e-14 2.70088196e-19\n",
            "  1.13944268e-04 2.75648695e-18 4.42140366e-25 1.65538567e-20\n",
            "  1.98097605e-09 9.99886036e-01]\n",
            " [2.86582470e-23 0.00000000e+00 9.68322940e-26 7.56762106e-25\n",
            "  3.58470722e-29 9.99999881e-01 3.61899295e-11 1.79712119e-29\n",
            "  6.51517311e-08 1.57838496e-22]]\n",
            "[7 2 1 0 4 1 4 9 5]\n"
          ],
          "name": "stdout"
        }
      ]
    },
    {
      "cell_type": "code",
      "metadata": {
        "id": "rx_bTBRikrse",
        "colab_type": "code",
        "colab": {}
      },
      "source": [
        "layer_dict = dict([(layer.name, layer) for layer in model.layers])"
      ],
      "execution_count": 0,
      "outputs": []
    },
    {
      "cell_type": "code",
      "metadata": {
        "id": "Lj-NzHYikv2o",
        "colab_type": "code",
        "colab": {
          "base_uri": "https://localhost:8080/",
          "height": 741
        },
        "outputId": "af0646c1-9159-4912-cf3e-2347cfc16c21"
      },
      "source": [
        "import numpy as np\n",
        "from matplotlib import pyplot as plt\n",
        "from keras import backend as K\n",
        "%matplotlib inline\n",
        "# util function to convert a tensor into a valid image\n",
        "def deprocess_image(x):\n",
        "    # normalize tensor: center on 0., ensure std is 0.1\n",
        "    x -= x.mean()\n",
        "    x /= (x.std() + 1e-5)\n",
        "    x *= 0.1\n",
        "\n",
        "    # clip to [0, 1]\n",
        "    x += 0.5\n",
        "    x = np.clip(x, 0, 1)\n",
        "\n",
        "    # convert to RGB array\n",
        "    x *= 255\n",
        "    #x = x.transpose((1, 2, 0))\n",
        "    x = np.clip(x, 0, 255).astype('uint8')\n",
        "    return x\n",
        "\n",
        "def vis_img_in_filter(img = np.array(X_train[2]).reshape((1, 28, 28, 1)).astype(np.float64), \n",
        "                      layer_name = 'conv2d_12'):\n",
        "    layer_output = layer_dict[layer_name].output\n",
        "    img_ascs = list()\n",
        "    for filter_index in range(layer_output.shape[3]):\n",
        "        # build a loss function that maximizes the activation\n",
        "        # of the nth filter of the layer considered\n",
        "        loss = K.mean(layer_output[:, :, :, filter_index])\n",
        "\n",
        "        # compute the gradient of the input picture wrt this loss\n",
        "        grads = K.gradients(loss, model.input)[0]\n",
        "\n",
        "        # normalization trick: we normalize the gradient\n",
        "        grads /= (K.sqrt(K.mean(K.square(grads))) + 1e-5)\n",
        "\n",
        "        # this function returns the loss and grads given the input picture\n",
        "        iterate = K.function([model.input], [loss, grads])\n",
        "\n",
        "        # step size for gradient ascent\n",
        "        step = 5.\n",
        "\n",
        "        img_asc = np.array(img)\n",
        "        # run gradient ascent for 20 steps\n",
        "        for i in range(20):\n",
        "            loss_value, grads_value = iterate([img_asc])\n",
        "            img_asc += grads_value * step\n",
        "\n",
        "        img_asc = img_asc[0]\n",
        "        img_ascs.append(deprocess_image(img_asc).reshape((28, 28)))\n",
        "        \n",
        "    if layer_output.shape[3] >= 35:\n",
        "        plot_x, plot_y = 6, 6\n",
        "    elif layer_output.shape[3] >= 23:\n",
        "        plot_x, plot_y = 4, 6\n",
        "    elif layer_output.shape[3] >= 11:\n",
        "        plot_x, plot_y = 2, 6\n",
        "    else:\n",
        "        plot_x, plot_y = 1, 2\n",
        "    fig, ax = plt.subplots(plot_x, plot_y, figsize = (12, 12))\n",
        "    ax[0, 0].imshow(img.reshape((28, 28)), cmap = 'gray')\n",
        "    ax[0, 0].set_title('Input image')\n",
        "    fig.suptitle('Input image and %s filters' % (layer_name,))\n",
        "    fig.tight_layout(pad = 0.3, rect = [0, 0, 0.9, 0.9])\n",
        "    for (x, y) in [(i, j) for i in range(plot_x) for j in range(plot_y)]:\n",
        "        if x == 0 and y == 0:\n",
        "            continue\n",
        "        ax[x, y].imshow(img_ascs[x * plot_y + y - 1], cmap = 'gray')\n",
        "        ax[x, y].set_title('filter %d' % (x * plot_y + y - 1))\n",
        "\n",
        "vis_img_in_filter()"
      ],
      "execution_count": 24,
      "outputs": [
        {
          "output_type": "display_data",
          "data": {
            "image/png": "[encoded data removed]",
            "text/plain": [
              "<Figure size 864x864 with 12 Axes>"
            ]
          },
          "metadata": {
            "tags": []
          }
        }
      ]
    }
  ]
}