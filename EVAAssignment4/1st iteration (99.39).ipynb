{
  "nbformat": 4,
  "nbformat_minor": 0,
  "metadata": {
    "colab": {
      "name": "Copy of vanilla.ipynb",
      "version": "0.3.2",
      "provenance": []
    },
    "kernelspec": {
      "name": "python3",
      "display_name": "Python 3"
    }
  },
  "cells": [
    {
      "cell_type": "code",
      "metadata": {
        "id": "ZRb_hc6msxz2",
        "colab_type": "code",
        "outputId": "8b7639fb-a428-4673-8bc7-12507adc1ce5",
        "colab": {
          "base_uri": "https://localhost:8080/",
          "height": 34
        }
      },
      "source": [
        "# https://keras.io/\n",
        "!pip install -q keras\n",
        "import keras"
      ],
      "execution_count": 1,
      "outputs": [
        {
          "output_type": "stream",
          "text": [
            "Using TensorFlow backend.\n"
          ],
          "name": "stderr"
        }
      ]
    },
    {
      "cell_type": "code",
      "metadata": {
        "id": "surFu7uFGJ-5",
        "colab_type": "code",
        "colab": {}
      },
      "source": [
        "import numpy as np\n",
        "\n",
        "from keras.models import Sequential\n",
        "from keras.layers import Dense, Dropout, Activation, Flatten, Add, BatchNormalization\n",
        "from keras.layers import Convolution2D, MaxPooling2D\n",
        "from keras.utils import np_utils\n",
        "\n",
        "from keras.datasets import mnist"
      ],
      "execution_count": 0,
      "outputs": []
    },
    {
      "cell_type": "code",
      "metadata": {
        "id": "H9EEdbVKGON3",
        "colab_type": "code",
        "colab": {}
      },
      "source": [
        "(X_train, y_train), (X_test, y_test) = mnist.load_data()"
      ],
      "execution_count": 0,
      "outputs": []
    },
    {
      "cell_type": "code",
      "metadata": {
        "id": "w50hh4k-GTX4",
        "colab_type": "code",
        "outputId": "ad809ee6-4ee3-43fb-cbed-e253a78b6ee5",
        "colab": {
          "base_uri": "https://localhost:8080/",
          "height": 303
        }
      },
      "source": [
        "print (X_train.shape)\n",
        "from matplotlib import pyplot as plt\n",
        "%matplotlib inline\n",
        "plt.imshow(X_train[0])"
      ],
      "execution_count": 4,
      "outputs": [
        {
          "output_type": "stream",
          "text": [
            "(60000, 28, 28)\n"
          ],
          "name": "stdout"
        },
        {
          "output_type": "execute_result",
          "data": {
            "text/plain": [
              "<matplotlib.image.AxesImage at 0x7f77af792fd0>"
            ]
          },
          "metadata": {
            "tags": []
          },
          "execution_count": 4
        },
        {
          "output_type": "display_data",
          "data": {
            "image/png": "[encoded data removed]",
            "text/plain": [
              "<Figure size 432x288 with 1 Axes>"
            ]
          },
          "metadata": {
            "tags": []
          }
        }
      ]
    },
    {
      "cell_type": "code",
      "metadata": {
        "id": "X7yHpoM_GX6Y",
        "colab_type": "code",
        "colab": {}
      },
      "source": [
        "X_train = X_train.reshape(X_train.shape[0], 28, 28,1)\n",
        "X_test = X_test.reshape(X_test.shape[0], 28, 28,1)"
      ],
      "execution_count": 0,
      "outputs": []
    },
    {
      "cell_type": "code",
      "metadata": {
        "id": "JNiRwMfjGaVu",
        "colab_type": "code",
        "colab": {}
      },
      "source": [
        "X_train = X_train.astype('float32')\n",
        "X_test = X_test.astype('float32')\n",
        "X_train /= 255\n",
        "X_test /= 255"
      ],
      "execution_count": 0,
      "outputs": []
    },
    {
      "cell_type": "code",
      "metadata": {
        "id": "9MbENfqzGcGq",
        "colab_type": "code",
        "outputId": "d3d2272b-82f4-4448-f9ca-eb43fe2a92dd",
        "colab": {
          "base_uri": "https://localhost:8080/",
          "height": 34
        }
      },
      "source": [
        "y_train[:10]"
      ],
      "execution_count": 7,
      "outputs": [
        {
          "output_type": "execute_result",
          "data": {
            "text/plain": [
              "array([5, 0, 4, 1, 9, 2, 1, 3, 1, 4], dtype=uint8)"
            ]
          },
          "metadata": {
            "tags": []
          },
          "execution_count": 7
        }
      ]
    },
    {
      "cell_type": "code",
      "metadata": {
        "id": "YPxaxOhpGed6",
        "colab_type": "code",
        "colab": {}
      },
      "source": [
        "# Convert 1-dimensional class arrays to 10-dimensional class matrices\n",
        "Y_train = np_utils.to_categorical(y_train, 10)\n",
        "Y_test = np_utils.to_categorical(y_test, 10)"
      ],
      "execution_count": 0,
      "outputs": []
    },
    {
      "cell_type": "code",
      "metadata": {
        "id": "uGhBWSo_Ggrh",
        "colab_type": "code",
        "outputId": "fc717594-66ff-4ffc-d810-b67375d0e862",
        "colab": {
          "base_uri": "https://localhost:8080/",
          "height": 187
        }
      },
      "source": [
        "Y_train[:10]\n"
      ],
      "execution_count": 9,
      "outputs": [
        {
          "output_type": "execute_result",
          "data": {
            "text/plain": [
              "array([[0., 0., 0., 0., 0., 1., 0., 0., 0., 0.],\n",
              "       [1., 0., 0., 0., 0., 0., 0., 0., 0., 0.],\n",
              "       [0., 0., 0., 0., 1., 0., 0., 0., 0., 0.],\n",
              "       [0., 1., 0., 0., 0., 0., 0., 0., 0., 0.],\n",
              "       [0., 0., 0., 0., 0., 0., 0., 0., 0., 1.],\n",
              "       [0., 0., 1., 0., 0., 0., 0., 0., 0., 0.],\n",
              "       [0., 1., 0., 0., 0., 0., 0., 0., 0., 0.],\n",
              "       [0., 0., 0., 1., 0., 0., 0., 0., 0., 0.],\n",
              "       [0., 1., 0., 0., 0., 0., 0., 0., 0., 0.],\n",
              "       [0., 0., 0., 0., 1., 0., 0., 0., 0., 0.]], dtype=float32)"
            ]
          },
          "metadata": {
            "tags": []
          },
          "execution_count": 9
        }
      ]
    },
    {
      "cell_type": "code",
      "metadata": {
        "id": "RtzBAe84GjeJ",
        "colab_type": "code",
        "outputId": "6cea2aa8-1de5-44ad-c2f6-26673c58d92c",
        "colab": {
          "base_uri": "https://localhost:8080/",
          "height": 224
        }
      },
      "source": [
        "from keras.layers import Activation\n",
        "\n",
        "model = Sequential()\n",
        "\n",
        "\n",
        "model.add(Convolution2D(32, 3, 3, activation='relu', input_shape=(28,28,1))) #26\n",
        "model.add(BatchNormalization())\n",
        "model.add(Dropout(0.3))\n",
        "\n",
        "model.add(Convolution2D(16, 3, 3, activation='relu')) #24\n",
        "model.add(BatchNormalization())\n",
        "model.add(Dropout(0.3))\n",
        "\n",
        "model.add(Convolution2D(16, 1,1, activation='relu'))\n",
        "\n",
        "model.add(MaxPooling2D(pool_size=(2, 2))) #12\n",
        "\n",
        "model.add(Convolution2D(16, 3, 3, activation='relu')) #10\n",
        "model.add(BatchNormalization())\n",
        "model.add(Dropout(0.3))\n",
        "\n",
        "model.add(Convolution2D(16, 3, 3, activation='relu')) #8\n",
        "model.add(BatchNormalization())\n",
        "model.add(Dropout(0.3))\n",
        "\n",
        "model.add(MaxPooling2D(pool_size=(2, 2))) #4\n",
        "\n",
        "model.add(Convolution2D(10, 4))\n",
        "model.add(Flatten())\n",
        "model.add(Activation('softmax'))"
      ],
      "execution_count": 13,
      "outputs": [
        {
          "output_type": "stream",
          "text": [
            "WARNING:tensorflow:From /usr/local/lib/python3.6/dist-packages/keras/backend/tensorflow_backend.py:3445: calling dropout (from tensorflow.python.ops.nn_ops) with keep_prob is deprecated and will be removed in a future version.\n",
            "Instructions for updating:\n",
            "Please use `rate` instead of `keep_prob`. Rate should be set to `rate = 1 - keep_prob`.\n"
          ],
          "name": "stdout"
        },
        {
          "output_type": "stream",
          "text": [
            "/usr/local/lib/python3.6/dist-packages/ipykernel_launcher.py:6: UserWarning: Update your `Conv2D` call to the Keras 2 API: `Conv2D(32, (3, 3), activation=\"relu\", input_shape=(28, 28, 1...)`\n",
            "  \n",
            "/usr/local/lib/python3.6/dist-packages/ipykernel_launcher.py:10: UserWarning: Update your `Conv2D` call to the Keras 2 API: `Conv2D(16, (3, 3), activation=\"relu\")`\n",
            "  # Remove the CWD from sys.path while we load stuff.\n",
            "/usr/local/lib/python3.6/dist-packages/ipykernel_launcher.py:14: UserWarning: Update your `Conv2D` call to the Keras 2 API: `Conv2D(16, (1, 1), activation=\"relu\")`\n",
            "  \n",
            "/usr/local/lib/python3.6/dist-packages/ipykernel_launcher.py:18: UserWarning: Update your `Conv2D` call to the Keras 2 API: `Conv2D(16, (3, 3), activation=\"relu\")`\n",
            "/usr/local/lib/python3.6/dist-packages/ipykernel_launcher.py:22: UserWarning: Update your `Conv2D` call to the Keras 2 API: `Conv2D(16, (3, 3), activation=\"relu\")`\n"
          ],
          "name": "stderr"
        }
      ]
    },
    {
      "cell_type": "code",
      "metadata": {
        "id": "_SKiaunhG2hs",
        "colab_type": "code",
        "outputId": "9d39a6af-a8a8-413d-f9fa-1e0ca23a6bbc",
        "colab": {
          "base_uri": "https://localhost:8080/",
          "height": 748
        }
      },
      "source": [
        "model.summary()"
      ],
      "execution_count": 14,
      "outputs": [
        {
          "output_type": "stream",
          "text": [
            "_________________________________________________________________\n",
            "Layer (type)                 Output Shape              Param #   \n",
            "=================================================================\n",
            "conv2d_8 (Conv2D)            (None, 26, 26, 32)        320       \n",
            "_________________________________________________________________\n",
            "batch_normalization_1 (Batch (None, 26, 26, 32)        128       \n",
            "_________________________________________________________________\n",
            "dropout_1 (Dropout)          (None, 26, 26, 32)        0         \n",
            "_________________________________________________________________\n",
            "conv2d_9 (Conv2D)            (None, 24, 24, 16)        4624      \n",
            "_________________________________________________________________\n",
            "batch_normalization_2 (Batch (None, 24, 24, 16)        64        \n",
            "_________________________________________________________________\n",
            "dropout_2 (Dropout)          (None, 24, 24, 16)        0         \n",
            "_________________________________________________________________\n",
            "conv2d_10 (Conv2D)           (None, 24, 24, 16)        272       \n",
            "_________________________________________________________________\n",
            "max_pooling2d_3 (MaxPooling2 (None, 12, 12, 16)        0         \n",
            "_________________________________________________________________\n",
            "conv2d_11 (Conv2D)           (None, 10, 10, 16)        2320      \n",
            "_________________________________________________________________\n",
            "batch_normalization_3 (Batch (None, 10, 10, 16)        64        \n",
            "_________________________________________________________________\n",
            "dropout_3 (Dropout)          (None, 10, 10, 16)        0         \n",
            "_________________________________________________________________\n",
            "conv2d_12 (Conv2D)           (None, 8, 8, 16)          2320      \n",
            "_________________________________________________________________\n",
            "batch_normalization_4 (Batch (None, 8, 8, 16)          64        \n",
            "_________________________________________________________________\n",
            "dropout_4 (Dropout)          (None, 8, 8, 16)          0         \n",
            "_________________________________________________________________\n",
            "max_pooling2d_4 (MaxPooling2 (None, 4, 4, 16)          0         \n",
            "_________________________________________________________________\n",
            "conv2d_13 (Conv2D)           (None, 1, 1, 10)          2570      \n",
            "_________________________________________________________________\n",
            "flatten_2 (Flatten)          (None, 10)                0         \n",
            "_________________________________________________________________\n",
            "activation_2 (Activation)    (None, 10)                0         \n",
            "=================================================================\n",
            "Total params: 12,746\n",
            "Trainable params: 12,586\n",
            "Non-trainable params: 160\n",
            "_________________________________________________________________\n"
          ],
          "name": "stdout"
        }
      ]
    },
    {
      "cell_type": "code",
      "metadata": {
        "id": "6g4CW5wOG467",
        "colab_type": "code",
        "colab": {}
      },
      "source": [
        "model.compile(loss='categorical_crossentropy',\n",
        "             optimizer='adam',\n",
        "             metrics=['accuracy'])"
      ],
      "execution_count": 0,
      "outputs": []
    },
    {
      "cell_type": "code",
      "metadata": {
        "id": "1uJYcuvkG9iP",
        "colab_type": "code",
        "outputId": "82427f67-3bfa-437e-bd50-f2b6321ed433",
        "colab": {
          "base_uri": "https://localhost:8080/",
          "height": 1465
        }
      },
      "source": [
        "model.fit(X_train, Y_train, batch_size=32, nb_epoch=40, verbose=1,validation_data=(X_test, Y_test))"
      ],
      "execution_count": 17,
      "outputs": [
        {
          "output_type": "stream",
          "text": [
            "Train on 60000 samples, validate on 10000 samples\n",
            "Epoch 1/40\n",
            "\r   32/60000 [..............................] - ETA: 4:18 - loss: 0.0248 - acc: 1.0000"
          ],
          "name": "stdout"
        },
        {
          "output_type": "stream",
          "text": [
            "/usr/local/lib/python3.6/dist-packages/ipykernel_launcher.py:1: UserWarning: The `nb_epoch` argument in `fit` has been renamed `epochs`.\n",
            "  \"\"\"Entry point for launching an IPython kernel.\n"
          ],
          "name": "stderr"
        },
        {
          "output_type": "stream",
          "text": [
            "60000/60000 [==============================] - 275s 5ms/step - loss: 0.0548 - acc: 0.9827 - val_loss: 0.0454 - val_acc: 0.9865\n",
            "Epoch 2/40\n",
            "60000/60000 [==============================] - 277s 5ms/step - loss: 0.0504 - acc: 0.9840 - val_loss: 0.0404 - val_acc: 0.9874\n",
            "Epoch 3/40\n",
            "60000/60000 [==============================] - 278s 5ms/step - loss: 0.0471 - acc: 0.9846 - val_loss: 0.0388 - val_acc: 0.9882\n",
            "Epoch 4/40\n",
            "60000/60000 [==============================] - 282s 5ms/step - loss: 0.0458 - acc: 0.9854 - val_loss: 0.0357 - val_acc: 0.9893\n",
            "Epoch 5/40\n",
            "60000/60000 [==============================] - 278s 5ms/step - loss: 0.0435 - acc: 0.9862 - val_loss: 0.0382 - val_acc: 0.9872\n",
            "Epoch 6/40\n",
            "60000/60000 [==============================] - 278s 5ms/step - loss: 0.0401 - acc: 0.9875 - val_loss: 0.0383 - val_acc: 0.9875\n",
            "Epoch 7/40\n",
            "60000/60000 [==============================] - 277s 5ms/step - loss: 0.0386 - acc: 0.9873 - val_loss: 0.0372 - val_acc: 0.9873\n",
            "Epoch 8/40\n",
            "60000/60000 [==============================] - 280s 5ms/step - loss: 0.0381 - acc: 0.9877 - val_loss: 0.0332 - val_acc: 0.9896\n",
            "Epoch 9/40\n",
            "60000/60000 [==============================] - 286s 5ms/step - loss: 0.0373 - acc: 0.9881 - val_loss: 0.0302 - val_acc: 0.9902\n",
            "Epoch 10/40\n",
            "60000/60000 [==============================] - 285s 5ms/step - loss: 0.0374 - acc: 0.9881 - val_loss: 0.0404 - val_acc: 0.9875\n",
            "Epoch 11/40\n",
            "60000/60000 [==============================] - 288s 5ms/step - loss: 0.0350 - acc: 0.9895 - val_loss: 0.0484 - val_acc: 0.9844\n",
            "Epoch 12/40\n",
            "60000/60000 [==============================] - 285s 5ms/step - loss: 0.0332 - acc: 0.9892 - val_loss: 0.0316 - val_acc: 0.9899\n",
            "Epoch 13/40\n",
            "60000/60000 [==============================] - 280s 5ms/step - loss: 0.0340 - acc: 0.9886 - val_loss: 0.0274 - val_acc: 0.9911\n",
            "Epoch 14/40\n",
            "60000/60000 [==============================] - 282s 5ms/step - loss: 0.0325 - acc: 0.9892 - val_loss: 0.0245 - val_acc: 0.9915\n",
            "Epoch 15/40\n",
            "60000/60000 [==============================] - 282s 5ms/step - loss: 0.0317 - acc: 0.9893 - val_loss: 0.0300 - val_acc: 0.9902\n",
            "Epoch 16/40\n",
            "60000/60000 [==============================] - 283s 5ms/step - loss: 0.0317 - acc: 0.9901 - val_loss: 0.0288 - val_acc: 0.9912\n",
            "Epoch 17/40\n",
            "60000/60000 [==============================] - 284s 5ms/step - loss: 0.0319 - acc: 0.9898 - val_loss: 0.0280 - val_acc: 0.9914\n",
            "Epoch 18/40\n",
            "60000/60000 [==============================] - 282s 5ms/step - loss: 0.0304 - acc: 0.9900 - val_loss: 0.0251 - val_acc: 0.9928\n",
            "Epoch 19/40\n",
            "60000/60000 [==============================] - 282s 5ms/step - loss: 0.0296 - acc: 0.9902 - val_loss: 0.0240 - val_acc: 0.9922\n",
            "Epoch 20/40\n",
            "60000/60000 [==============================] - 284s 5ms/step - loss: 0.0308 - acc: 0.9903 - val_loss: 0.0251 - val_acc: 0.9917\n",
            "Epoch 21/40\n",
            "60000/60000 [==============================] - 286s 5ms/step - loss: 0.0290 - acc: 0.9908 - val_loss: 0.0252 - val_acc: 0.9911\n",
            "Epoch 22/40\n",
            "60000/60000 [==============================] - 284s 5ms/step - loss: 0.0297 - acc: 0.9905 - val_loss: 0.0245 - val_acc: 0.9923\n",
            "Epoch 23/40\n",
            "60000/60000 [==============================] - 280s 5ms/step - loss: 0.0290 - acc: 0.9905 - val_loss: 0.0257 - val_acc: 0.9921\n",
            "Epoch 24/40\n",
            "60000/60000 [==============================] - 279s 5ms/step - loss: 0.0288 - acc: 0.9906 - val_loss: 0.0232 - val_acc: 0.9924\n",
            "Epoch 25/40\n",
            "60000/60000 [==============================] - 302s 5ms/step - loss: 0.0289 - acc: 0.9909 - val_loss: 0.0271 - val_acc: 0.9905\n",
            "Epoch 26/40\n",
            "60000/60000 [==============================] - 530s 9ms/step - loss: 0.0268 - acc: 0.9911 - val_loss: 0.0267 - val_acc: 0.9914\n",
            "Epoch 27/40\n",
            "60000/60000 [==============================] - 533s 9ms/step - loss: 0.0285 - acc: 0.9907 - val_loss: 0.0247 - val_acc: 0.9921\n",
            "Epoch 28/40\n",
            "60000/60000 [==============================] - 423s 7ms/step - loss: 0.0286 - acc: 0.9908 - val_loss: 0.0266 - val_acc: 0.9917\n",
            "Epoch 29/40\n",
            "60000/60000 [==============================] - 391s 7ms/step - loss: 0.0255 - acc: 0.9916 - val_loss: 0.0232 - val_acc: 0.9921\n",
            "Epoch 30/40\n",
            "60000/60000 [==============================] - 526s 9ms/step - loss: 0.0279 - acc: 0.9911 - val_loss: 0.0241 - val_acc: 0.9919\n",
            "Epoch 31/40\n",
            "60000/60000 [==============================] - 525s 9ms/step - loss: 0.0250 - acc: 0.9919 - val_loss: 0.0243 - val_acc: 0.9918\n",
            "Epoch 32/40\n",
            "60000/60000 [==============================] - 510s 9ms/step - loss: 0.0255 - acc: 0.9919 - val_loss: 0.0221 - val_acc: 0.9926\n",
            "Epoch 33/40\n",
            "60000/60000 [==============================] - 452s 8ms/step - loss: 0.0267 - acc: 0.9918 - val_loss: 0.0278 - val_acc: 0.9908\n",
            "Epoch 34/40\n",
            "60000/60000 [==============================] - 532s 9ms/step - loss: 0.0249 - acc: 0.9922 - val_loss: 0.0230 - val_acc: 0.9928\n",
            "Epoch 35/40\n",
            "60000/60000 [==============================] - 527s 9ms/step - loss: 0.0260 - acc: 0.9914 - val_loss: 0.0270 - val_acc: 0.9912\n",
            "Epoch 36/40\n",
            "60000/60000 [==============================] - 522s 9ms/step - loss: 0.0251 - acc: 0.9918 - val_loss: 0.0230 - val_acc: 0.9934\n",
            "Epoch 37/40\n",
            "60000/60000 [==============================] - 519s 9ms/step - loss: 0.0241 - acc: 0.9923 - val_loss: 0.0243 - val_acc: 0.9928\n",
            "Epoch 38/40\n",
            "60000/60000 [==============================] - 524s 9ms/step - loss: 0.0246 - acc: 0.9920 - val_loss: 0.0211 - val_acc: 0.9939\n",
            "Epoch 39/40\n",
            "60000/60000 [==============================] - 527s 9ms/step - loss: 0.0240 - acc: 0.9925 - val_loss: 0.0211 - val_acc: 0.9939\n",
            "Epoch 40/40\n",
            "60000/60000 [==============================] - 521s 9ms/step - loss: 0.0253 - acc: 0.9917 - val_loss: 0.0253 - val_acc: 0.9922\n"
          ],
          "name": "stdout"
        },
        {
          "output_type": "execute_result",
          "data": {
            "text/plain": [
              "<keras.callbacks.History at 0x7f77a654f940>"
            ]
          },
          "metadata": {
            "tags": []
          },
          "execution_count": 17
        }
      ]
    },
    {
      "cell_type": "code",
      "metadata": {
        "id": "6Zf9uR4Akf6x",
        "colab_type": "code",
        "colab": {}
      },
      "source": [
        "score = model.evaluate(X_test, Y_test, verbose=0)"
      ],
      "execution_count": 0,
      "outputs": []
    },
    {
      "cell_type": "code",
      "metadata": {
        "id": "b-5-bBwlki2u",
        "colab_type": "code",
        "outputId": "da07d1aa-df87-4fac-9c94-06d3d9ed5757",
        "colab": {
          "base_uri": "https://localhost:8080/",
          "height": 34
        }
      },
      "source": [
        "print(score)"
      ],
      "execution_count": 19,
      "outputs": [
        {
          "output_type": "stream",
          "text": [
            "[0.025299940389441326, 0.9922]\n"
          ],
          "name": "stdout"
        }
      ]
    },
    {
      "cell_type": "code",
      "metadata": {
        "id": "phmKiVNNkluB",
        "colab_type": "code",
        "colab": {}
      },
      "source": [
        "y_pred = model.predict(X_test)"
      ],
      "execution_count": 0,
      "outputs": []
    }
  ]
}