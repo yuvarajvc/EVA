{
 "cells": [
  {
   "cell_type": "code",
   "execution_count": 1,
   "metadata": {},
   "outputs": [],
   "source": [
    "# !pip install opencv-python\n",
    "# !apt update && apt install -y libsm6 libxext6\n",
    "\n",
    "# !apt-get install libxrender1\n",
    "# #!sudo apt-get install libfontconfig1 libxrender1"
   ]
  },
  {
   "cell_type": "code",
   "execution_count": 2,
   "metadata": {
    "colab": {},
    "colab_type": "code",
    "id": "QEtVTK3uYk9p"
   },
   "outputs": [
    {
     "name": "stderr",
     "output_type": "stream",
     "text": [
      "/usr/local/lib/python3.6/dist-packages/tensorflow/python/framework/dtypes.py:516: FutureWarning: Passing (type, 1) or '1type' as a synonym of type is deprecated; in a future version of numpy, it will be understood as (type, (1,)) / '(1,)type'.\n",
      "  _np_qint8 = np.dtype([(\"qint8\", np.int8, 1)])\n",
      "/usr/local/lib/python3.6/dist-packages/tensorflow/python/framework/dtypes.py:517: FutureWarning: Passing (type, 1) or '1type' as a synonym of type is deprecated; in a future version of numpy, it will be understood as (type, (1,)) / '(1,)type'.\n",
      "  _np_quint8 = np.dtype([(\"quint8\", np.uint8, 1)])\n",
      "/usr/local/lib/python3.6/dist-packages/tensorflow/python/framework/dtypes.py:518: FutureWarning: Passing (type, 1) or '1type' as a synonym of type is deprecated; in a future version of numpy, it will be understood as (type, (1,)) / '(1,)type'.\n",
      "  _np_qint16 = np.dtype([(\"qint16\", np.int16, 1)])\n",
      "/usr/local/lib/python3.6/dist-packages/tensorflow/python/framework/dtypes.py:519: FutureWarning: Passing (type, 1) or '1type' as a synonym of type is deprecated; in a future version of numpy, it will be understood as (type, (1,)) / '(1,)type'.\n",
      "  _np_quint16 = np.dtype([(\"quint16\", np.uint16, 1)])\n",
      "/usr/local/lib/python3.6/dist-packages/tensorflow/python/framework/dtypes.py:520: FutureWarning: Passing (type, 1) or '1type' as a synonym of type is deprecated; in a future version of numpy, it will be understood as (type, (1,)) / '(1,)type'.\n",
      "  _np_qint32 = np.dtype([(\"qint32\", np.int32, 1)])\n",
      "/usr/local/lib/python3.6/dist-packages/tensorflow/python/framework/dtypes.py:525: FutureWarning: Passing (type, 1) or '1type' as a synonym of type is deprecated; in a future version of numpy, it will be understood as (type, (1,)) / '(1,)type'.\n",
      "  np_resource = np.dtype([(\"resource\", np.ubyte, 1)])\n",
      "/usr/local/lib/python3.6/dist-packages/tensorboard/compat/tensorflow_stub/dtypes.py:541: FutureWarning: Passing (type, 1) or '1type' as a synonym of type is deprecated; in a future version of numpy, it will be understood as (type, (1,)) / '(1,)type'.\n",
      "  _np_qint8 = np.dtype([(\"qint8\", np.int8, 1)])\n",
      "/usr/local/lib/python3.6/dist-packages/tensorboard/compat/tensorflow_stub/dtypes.py:542: FutureWarning: Passing (type, 1) or '1type' as a synonym of type is deprecated; in a future version of numpy, it will be understood as (type, (1,)) / '(1,)type'.\n",
      "  _np_quint8 = np.dtype([(\"quint8\", np.uint8, 1)])\n",
      "/usr/local/lib/python3.6/dist-packages/tensorboard/compat/tensorflow_stub/dtypes.py:543: FutureWarning: Passing (type, 1) or '1type' as a synonym of type is deprecated; in a future version of numpy, it will be understood as (type, (1,)) / '(1,)type'.\n",
      "  _np_qint16 = np.dtype([(\"qint16\", np.int16, 1)])\n",
      "/usr/local/lib/python3.6/dist-packages/tensorboard/compat/tensorflow_stub/dtypes.py:544: FutureWarning: Passing (type, 1) or '1type' as a synonym of type is deprecated; in a future version of numpy, it will be understood as (type, (1,)) / '(1,)type'.\n",
      "  _np_quint16 = np.dtype([(\"quint16\", np.uint16, 1)])\n",
      "/usr/local/lib/python3.6/dist-packages/tensorboard/compat/tensorflow_stub/dtypes.py:545: FutureWarning: Passing (type, 1) or '1type' as a synonym of type is deprecated; in a future version of numpy, it will be understood as (type, (1,)) / '(1,)type'.\n",
      "  _np_qint32 = np.dtype([(\"qint32\", np.int32, 1)])\n",
      "/usr/local/lib/python3.6/dist-packages/tensorboard/compat/tensorflow_stub/dtypes.py:550: FutureWarning: Passing (type, 1) or '1type' as a synonym of type is deprecated; in a future version of numpy, it will be understood as (type, (1,)) / '(1,)type'.\n",
      "  np_resource = np.dtype([(\"resource\", np.ubyte, 1)])\n",
      "UsageError: Line magic function `%` not found.\n"
     ]
    }
   ],
   "source": [
    "import numpy as np\n",
    "import time, math\n",
    "import cv2\n",
    "from tqdm import tqdm_notebook as tqdm\n",
    "\n",
    "import tensorflow as tf\n",
    "from tensorflow.keras.regularizers import l2\n",
    "import tensorflow.contrib.eager as tfe\n",
    "\n",
    "import matplotlib.pyplot as plt\n",
    "% matplotlib inline"
   ]
  },
  {
   "cell_type": "code",
   "execution_count": 3,
   "metadata": {
    "colab": {},
    "colab_type": "code",
    "id": "p5mkJO53h-Zs"
   },
   "outputs": [],
   "source": [
    "learning_rate = 0.4 \n",
    "epochs = 25\n",
    "batch_size = 512\n",
    "end_percentage = 0.05\n",
    "triangle_tilt = 0.7"
   ]
  },
  {
   "cell_type": "code",
   "execution_count": 4,
   "metadata": {
    "colab": {
     "base_uri": "https://localhost:8080/",
     "height": 51
    },
    "colab_type": "code",
    "id": "6WR3LO8tidAc",
    "outputId": "1a364e70-0ba3-43f9-fa61-5ecfb4e57b5e"
   },
   "outputs": [],
   "source": [
    "# Loading the CIFAR10 60000 Training and 10000 Test data into respective numpy arrays\n",
    "(X_train, y_train), (X_test, y_test) = tf.keras.datasets.cifar10.load_data()\n",
    "\n",
    "n_train, n_test = X_train.shape[0], X_test.shape[0]\n",
    "img_size = X_train.shape[1]\n",
    "n_classes = y_train.max() + 1"
   ]
  },
  {
   "cell_type": "code",
   "execution_count": 5,
   "metadata": {
    "colab": {},
    "colab_type": "code",
    "id": "qJq-7uMpmU6x"
   },
   "outputs": [],
   "source": [
    "X_train = X_train.astype('float32')/255\n",
    "X_test = X_test.astype('float32')/255\n",
    "Y_train = tf.keras.utils.to_categorical(y_train, n_classes)\n",
    "Y_test = tf.keras.utils.to_categorical(y_test, n_classes)"
   ]
  },
  {
   "cell_type": "code",
   "execution_count": 6,
   "metadata": {
    "colab": {
     "base_uri": "https://localhost:8080/",
     "height": 34
    },
    "colab_type": "code",
    "id": "n6QYdPNtQ99J",
    "outputId": "fadabed6-1362-47ed-9594-10188bbc53b7"
   },
   "outputs": [
    {
     "name": "stdout",
     "output_type": "stream",
     "text": [
      "[0.4914009  0.48215896 0.4465308 ] [0.24703279 0.24348423 0.26158753]\n"
     ]
    }
   ],
   "source": [
    "X_train_mean = np.mean(X_train, axis=(0,1,2))\n",
    "X_train_std = np.std(X_train, axis=(0,1,2))\n",
    "print(X_train_mean, X_train_std)"
   ]
  },
  {
   "cell_type": "code",
   "execution_count": 7,
   "metadata": {
    "colab": {
     "base_uri": "https://localhost:8080/",
     "height": 34
    },
    "colab_type": "code",
    "id": "pzRLfIA8Q-xx",
    "outputId": "febbced7-b822-4d37-8cbf-e407f62608d1"
   },
   "outputs": [
    {
     "name": "stdout",
     "output_type": "stream",
     "text": [
      "[0.49421427 0.4851322  0.45040992] [0.24665268 0.24289216 0.2615922 ]\n"
     ]
    }
   ],
   "source": [
    "X_test_mean = np.mean(X_test, axis=(0,1,2))\n",
    "X_test_std = np.std(X_test, axis=(0,1,2))\n",
    "print(X_test_mean, X_test_std)"
   ]
  },
  {
   "cell_type": "code",
   "execution_count": 8,
   "metadata": {
    "colab": {},
    "colab_type": "code",
    "id": "oOh0j981RHnW"
   },
   "outputs": [],
   "source": [
    "X_train = (X_train - X_train_mean) / X_train_std\n",
    "X_test = (X_test - X_test_mean) / X_test_std"
   ]
  },
  {
   "cell_type": "markdown",
   "metadata": {
    "colab_type": "text",
    "id": "tJDvRfVy3klC"
   },
   "source": [
    "#Random Cropping "
   ]
  },
  {
   "cell_type": "code",
   "execution_count": 9,
   "metadata": {
    "colab": {},
    "colab_type": "code",
    "id": "yOtVSU6qrjI9"
   },
   "outputs": [],
   "source": [
    "def random_crop(input_image,padding_pixels=4,random_crop_size=(32,32)):\n",
    "          # Note: image_data_format is 'channel_last'\n",
    "          assert input_image.shape[2] == 3\n",
    "          \n",
    "          #Pad by 4 pixels\n",
    "          img = cv2.copyMakeBorder(input_image, padding_pixels, padding_pixels, padding_pixels, padding_pixels, cv2.BORDER_REPLICATE)\n",
    "          \n",
    "          height, width = img.shape[0], img.shape[1]\n",
    "          dy, dx = random_crop_size\n",
    "          x = np.random.randint(0, width - dx + 1)\n",
    "          y = np.random.randint(0, height - dy + 1)\n",
    "          return img[y:(y+dy), x:(x+dx), :]\n",
    "        \n",
    "tr_seq = list(range(len(X_train)))\n",
    "train_func = lambda i:random_crop(X_train[i])\n",
    "train_features = list(map(train_func,tr_seq))\n",
    "\n",
    "train_features = np.asarray(train_features)\n",
    "train_labels = Y_train "
   ]
  },
  {
   "cell_type": "code",
   "execution_count": 10,
   "metadata": {
    "colab": {},
    "colab_type": "code",
    "id": "dDK_7gDlHEFC"
   },
   "outputs": [],
   "source": [
    "def get_cutout_eraser_and_padcrop(p=0.5, s_l=0.3, s_h=0.3, r_1=0.3, r_2=1 / 0.3, max_erasures_per_image=1, pixel_level=True, random_crop_size=(32, 32), padding_pixels=4):\n",
    "    \"\"\"\n",
    "    :param p:\n",
    "    :param s_l: Minimum Area Proportion of Original that may be cut\n",
    "    :param s_h: Maximum Area Proportion of Original that may be cut\n",
    "    :param r_1: Min Aspect Ratio\n",
    "    :param r_2: Max Aspect Ratio\n",
    "    :param max_erasures_per_image:\n",
    "    :param pixel_level:\n",
    "    :return: Eraser to be used as Preprocessing Function\n",
    "    \"\"\"\n",
    "    assert max_erasures_per_image >= 1\n",
    "\n",
    "    def eraser(input_img):\n",
    "        v_l = np.min(input_img)\n",
    "        v_h = np.max(input_img)\n",
    "        img_h, img_w, img_c = input_img.shape\n",
    "        p_1 = np.random.rand()\n",
    "\n",
    "        if p_1 > p:\n",
    "            return input_img\n",
    "\n",
    "        mx = np.random.randint(1, max_erasures_per_image + 1)\n",
    "        # print(\"Erasures = \",mx,end =\", \")\n",
    "        for i in range(mx):\n",
    "            while True:\n",
    "                s = np.random.uniform(s_l, s_h) * img_h * img_w\n",
    "                r = np.random.uniform(r_1, r_2)\n",
    "                w = int(np.sqrt(s / r))\n",
    "                h = int(np.sqrt(s * r))\n",
    "                left = np.random.randint(0, img_w)\n",
    "                top = np.random.randint(0, img_h)\n",
    "\n",
    "                if left + w <= img_w and top + h <= img_h:\n",
    "                    break\n",
    "\n",
    "            # print(\"W = \",w,\"H = \",h,end =\", \")\n",
    "\n",
    "            if pixel_level:\n",
    "                # print(np.max(img_c),np.min(img_c),v_l,v_h)\n",
    "                c = np.random.uniform(v_l, v_h, (h, w, img_c))\n",
    "                # print(c.shape,np.min(c),np.max(c),np.median(c))\n",
    "            else:\n",
    "                c = np.random.uniform(v_l, v_h)\n",
    "\n",
    "            input_img[top:top + h, left:left + w, :] = c\n",
    "\n",
    "        # print()\n",
    "        return input_img\n",
    "     \n",
    "    \n",
    "        \n",
    "    def preproc_image(input_image):\n",
    "      #return eraser\n",
    "      return eraser(input_image)\n",
    "\n",
    "    return preproc_image\n",
    "      \n",
    "        "
   ]
  },
  {
   "cell_type": "code",
   "execution_count": 11,
   "metadata": {
    "colab": {},
    "colab_type": "code",
    "id": "JBPdtlO75o2O"
   },
   "outputs": [],
   "source": [
    "datagen = tf.keras.preprocessing.image.ImageDataGenerator(\n",
    "   #featurewise_center=True,\n",
    "   #featurewise_std_normalization=True,\n",
    "   horizontal_flip=0.5,                 # randomly flip images                                     \n",
    "   preprocessing_function=get_cutout_eraser_and_padcrop(p=0.8, s_l=0.25, s_h=0.25, r_1=0.2, r_2=1 / 0.3, max_erasures_per_image=1, pixel_level=False))\n",
    "\n",
    "_ = datagen.fit(X_train)\n",
    "train_iterator = datagen.flow(X_train, Y_train, batch_size=256, shuffle=False)\n",
    "\n",
    "# X_e, Y_e = train_iterator.next()\n",
    "# X_e = min_max_scale(X_e)\n",
    "# show_examples(X_e[0:10], Y_e[0:10], classes = get_cifar10_labels())"
   ]
  },
  {
   "cell_type": "code",
   "execution_count": 12,
   "metadata": {
    "colab": {},
    "colab_type": "code",
    "id": "oxc5QhiQR1X6"
   },
   "outputs": [],
   "source": [
    "datagen_validation = tf.keras.preprocessing.image.ImageDataGenerator()\n",
    "datagen_validation.fit(X_test)\n",
    "validation_iterator = datagen_validation.flow(X_test, Y_test, batch_size=batch_size, shuffle=False)"
   ]
  },
  {
   "cell_type": "markdown",
   "metadata": {
    "colab_type": "text",
    "id": "YBjKmx1u4Nso"
   },
   "source": [
    "#Custom Image Data Generator for Augmentation \n",
    "\n",
    "Here storing all the augmented images and later will pick up half augmented from here and half from original images "
   ]
  },
  {
   "cell_type": "code",
   "execution_count": 13,
   "metadata": {
    "colab": {
     "base_uri": "https://localhost:8080/",
     "height": 221
    },
    "colab_type": "code",
    "id": "bp09LebQfo4O",
    "outputId": "6dc4fd46-a461-43ba-c424-2ace12f3d3c7"
   },
   "outputs": [
    {
     "name": "stdout",
     "output_type": "stream",
     "text": [
      "tmp  0\n",
      "tmp  50000\n",
      "tmp  100000\n",
      "tmp  150000\n",
      "tmp  200000\n",
      "tmp  250000\n",
      "tmp  300000\n",
      "tmp  350000\n",
      "tmp  400000\n",
      "tmp  450000\n",
      "tmp  500000\n",
      "tmp  550000\n"
     ]
    }
   ],
   "source": [
    "import h5py\n",
    "f = h5py.File('aug_img.hdf5', 'w')\n",
    "d = f.create_dataset('dataset', (600000,32,32,3),chunks=(256,32,32,3))\n",
    "l = f.create_dataset('labels',(600000,10),chunks=(256,10))\n",
    "\n",
    "\n",
    "batch_size=256\n",
    "EPOCHS =12\n",
    "aug_lbl=[]\n",
    "tmp=0\n",
    "for i in range(EPOCHS):\n",
    "  print(\"tmp \", tmp)\n",
    "  for j in range(len(train_iterator)):\n",
    "    initial = j*batch_size+tmp\n",
    "    train_gen = train_iterator.next()\n",
    "    if(j == 195 ):\n",
    "      final += 80\n",
    "      d[initial:final]= train_gen[0]\n",
    "      l[initial:final]= train_gen[1]\n",
    "      continue \n",
    "      \n",
    "    \n",
    "    final = initial + 256\n",
    "    d[initial:final]= train_gen[0]\n",
    "    l[initial:final]= train_gen[1]\n",
    "  \n",
    "  tmp = final\n"
   ]
  },
  {
   "cell_type": "code",
   "execution_count": 14,
   "metadata": {
    "colab": {},
    "colab_type": "code",
    "id": "10HGAQbDDg6d"
   },
   "outputs": [],
   "source": [
    "input_shape=(32, 32, 3)\n",
    "num_outputs = 10"
   ]
  },
  {
   "cell_type": "markdown",
   "metadata": {
    "colab_type": "text",
    "id": "tPD_H0K-4lHe"
   },
   "source": [
    "#David Net Architecture "
   ]
  },
  {
   "cell_type": "code",
   "execution_count": 15,
   "metadata": {
    "colab": {},
    "colab_type": "code",
    "id": "37S1oFpA2wUJ"
   },
   "outputs": [
    {
     "name": "stderr",
     "output_type": "stream",
     "text": [
      "WARNING: Logging before flag parsing goes to stderr.\n",
      "W0826 16:57:00.708470 140451500074816 deprecation.py:506] From /usr/local/lib/python3.6/dist-packages/tensorflow/python/ops/init_ops.py:1251: calling VarianceScaling.__init__ (from tensorflow.python.ops.init_ops) with dtype is deprecated and will be removed in a future version.\n",
      "Instructions for updating:\n",
      "Call initializer instance with the dtype argument instead of passing it to the constructor\n"
     ]
    }
   ],
   "source": [
    "def block(input_layer,filters,stride=1):\n",
    "  \n",
    "  conv_1 = tf.keras.layers.Conv2D(filters, kernel_size=(3,3), padding='same', strides=stride, kernel_regularizer=l2(0.0001))(input_layer)\n",
    "  \n",
    "  bn_1 = tf.keras.layers.BatchNormalization(axis=3,momentum=0.9,epsilon=1e-5)(conv_1)\n",
    "  \n",
    "  activation_layer_b1 = tf.keras.layers.Activation('relu')(bn_1)\n",
    "  \n",
    "  return activation_layer_b1\n",
    "\n",
    "\n",
    "input = tf.keras.layers.Input(shape=input_shape)\n",
    "start = block(input,32)\n",
    "\n",
    "layer_1 = block(start,64)\n",
    "mp_1 = tf.keras.layers.AveragePooling2D(pool_size=(2, 2), strides=(2, 2), padding=\"same\")(layer_1)\n",
    "\n",
    "layer1_identity = tf.keras.layers.Conv2D(filters=32,kernel_size=(1, 1),strides=(1, 1),padding=\"same\",kernel_regularizer=l2(0.0001))(mp_1)\n",
    "layer1_res1 = block(layer1_identity,64)\n",
    "layer1_res2 = block(layer1_res1,64)\n",
    "\n",
    "concat1 = tf.keras.layers.concatenate([mp_1, layer1_res2])\n",
    "\n",
    "layer_2 = block(concat1,128)\n",
    "mp_2 = tf.keras.layers.AveragePooling2D(pool_size=(2, 2), strides=(2, 2), padding=\"same\")(layer_2)\n",
    "\n",
    "layer_3 = block(mp_2,256)\n",
    "mp_3 = tf.keras.layers.AveragePooling2D(pool_size=(2, 2), strides=(2, 2), padding=\"same\")(layer_3)\n",
    "\n",
    "layer3_identity = tf.keras.layers.Conv2D(filters=128,kernel_size=(1, 1),strides=(1, 1),padding=\"same\",kernel_regularizer=l2(0.0001))(mp_3)\n",
    "layer3_res1 = block(layer3_identity,256)\n",
    "layer3_res2 = block(layer3_res1,256)\n",
    "\n",
    "concat2 = tf.keras.layers.concatenate([mp_3, layer3_res2])\n",
    "\n",
    "gmp = tf.keras.layers.GlobalAveragePooling2D()(concat2)\n",
    "dense = tf.keras.layers.Dense(units=num_outputs, activation=\"softmax\")(gmp) #kernel_initializer=\"he_normal\", \n",
    "\n",
    "model = tf.keras.models.Model(inputs=input, outputs=dense)\n"
   ]
  },
  {
   "cell_type": "markdown",
   "metadata": {
    "colab_type": "text",
    "id": "glb550Vu5AJe"
   },
   "source": [
    "#For slanted learning rate"
   ]
  },
  {
   "cell_type": "code",
   "execution_count": 16,
   "metadata": {
    "colab": {
     "base_uri": "https://localhost:8080/",
     "height": 298
    },
    "colab_type": "code",
    "id": "suxU4w1SF6EX",
    "outputId": "bcd14ad7-23d6-4d37-f5ed-bbe2e2f7010e"
   },
   "outputs": [
    {
     "name": "stdout",
     "output_type": "stream",
     "text": [
      "================================================================================\n"
     ]
    },
    {
     "data": {
      "image/png": "[encoded data removed]",
      "text/plain": [
       "<Figure size 432x288 with 1 Axes>"
      ]
     },
     "metadata": {
      "needs_background": "light"
     },
     "output_type": "display_data"
    }
   ],
   "source": [
    "def min_max_scaler(iterations, num_iterations, end_percentage, min_val, max_val, invert = False, triangle_tilt = 0.65):\n",
    "  non_slant_mid_cycle_id = int(num_iterations * ((1. - end_percentage)) / float(2))\n",
    "  mid_cycle_id = int(triangle_tilt*int(num_iterations * ((1. - end_percentage)) / float(2)))\n",
    "  value = 0\n",
    "  if iterations > 2 * non_slant_mid_cycle_id:\n",
    "    \n",
    "    \n",
    "      extra_iters = (iterations - 2 * non_slant_mid_cycle_id)\n",
    "      current_percentage = 1 - (1 - 1/10)*extra_iters/(num_iterations - 2 * non_slant_mid_cycle_id)\n",
    "            \n",
    "\n",
    "  elif iterations >  mid_cycle_id:\n",
    "      current_percentage = 1. - (iterations - mid_cycle_id) / (2*non_slant_mid_cycle_id - mid_cycle_id)\n",
    "      \n",
    "  else:\n",
    "      current_percentage = iterations / mid_cycle_id\n",
    "      \n",
    "  if invert:\n",
    "    if iterations > 2 * non_slant_mid_cycle_id:\n",
    "      return max_val\n",
    "    return max_val - current_percentage * (max_val - min_val)\n",
    "  else:\n",
    "    if iterations > 2 * non_slant_mid_cycle_id:\n",
    "      return min_val * current_percentage\n",
    "    return min_val + current_percentage * (max_val - min_val)\n",
    "  \n",
    "    \n",
    "\n",
    "print(\"=\"*80)\n",
    "scales = []\n",
    "for i in range(1000):\n",
    "  p = min_max_scaler(i,1000,0.1,min_val=0.1,max_val=1, invert=False)\n",
    "  scales.append(p)\n",
    "  \n",
    "plt.plot(np.array(scales))\n",
    "plt.title(\"LR Graph\")\n",
    "plt.show()"
   ]
  },
  {
   "cell_type": "code",
   "execution_count": 17,
   "metadata": {
    "colab": {},
    "colab_type": "code",
    "id": "v_zaj292F7PD"
   },
   "outputs": [],
   "source": [
    "import os\n",
    "import numpy as np\n",
    "import warnings\n",
    "\n",
    "from tensorflow.keras.callbacks import Callback\n",
    "from tensorflow.keras import backend as K\n",
    "\n",
    "from tensorflow.keras.layers import (\n",
    "    Conv2D,\n",
    "    MaxPooling2D,\n",
    "    AveragePooling2D\n",
    ")\n",
    "\n",
    "\n",
    "# Code is ported from https://github.com/fastai/fastai\n",
    "class OneCycleLR(Callback):\n",
    "    def __init__(self,\n",
    "                 epochs,\n",
    "                 batch_size,\n",
    "                 samples,\n",
    "                 steps,\n",
    "                 max_lr,\n",
    "                 end_percentage=0.1,\n",
    "                 scale=100,\n",
    "                 maximum_momentum=0.95,\n",
    "                 minimum_momentum=0.85,\n",
    "                 triangle_tilt = 0.75,\n",
    "                 verbose=True):\n",
    "        \"\"\" This callback implements a cyclical learning rate policy (CLR).\n",
    "        This is a special case of Cyclic Learning Rates, where we have only 1 cycle.\n",
    "        After the completion of 1 cycle, the learning rate will decrease rapidly to\n",
    "        100th its initial lowest value.\n",
    "        # Arguments:\n",
    "            max_lr: Float. Initial learning rate. This also sets the\n",
    "                starting learning rate (which will be 10x smaller than\n",
    "                this), and will increase to this value during the first cycle.\n",
    "            end_percentage: Float. The percentage of all the epochs of training\n",
    "                that will be dedicated to sharply decreasing the learning\n",
    "                rate after the completion of 1 cycle. Must be between 0 and 1.\n",
    "            scale_percentage: Float or None. If float, must be between 0 and 1.\n",
    "                If None, it will compute the scale_percentage automatically\n",
    "                based on the `end_percentage`.\n",
    "            maximum_momentum: Optional. Sets the maximum momentum (initial)\n",
    "                value, which gradually drops to its lowest value in half-cycle,\n",
    "                then gradually increases again to stay constant at this max value.\n",
    "                Can only be used with SGD Optimizer.\n",
    "            minimum_momentum: Optional. Sets the minimum momentum at the end of\n",
    "                the half-cycle. Can only be used with SGD Optimizer.\n",
    "            verbose: Bool. Whether to print the current learning rate after every\n",
    "                epoch.\n",
    "        # Reference\n",
    "            - [A disciplined approach to neural network hyper-parameters: Part 1 -- learning rate, batch size, weight_decay, and weight decay](https://arxiv.org/abs/1803.09820)\n",
    "            - [Super-Convergence: Very Fast Training of Residual Networks Using Large Learning Rates](https://arxiv.org/abs/1708.07120)\n",
    "        \"\"\"\n",
    "        super(OneCycleLR, self).__init__()\n",
    "\n",
    "        if end_percentage < 0. or end_percentage > 1.:\n",
    "            raise ValueError(\"`end_percentage` must be between 0 and 1\")\n",
    "\n",
    "\n",
    "        self.initial_lr = max_lr\n",
    "        self.end_percentage = end_percentage\n",
    "        self.scale = scale\n",
    "        self.max_momentum = maximum_momentum\n",
    "        self.min_momentum = minimum_momentum\n",
    "        self.verbose = verbose\n",
    "\n",
    "        if self.max_momentum is not None and self.min_momentum is not None:\n",
    "            self._update_momentum = True\n",
    "        else:\n",
    "            self._update_momentum = False\n",
    "\n",
    "        self.clr_iterations = 0.\n",
    "        self.history = {}\n",
    "\n",
    "        self.epochs = epochs\n",
    "        self.batch_size = batch_size\n",
    "        self.samples = samples\n",
    "        self.steps = steps\n",
    "        self.num_iterations = None\n",
    "        self.mid_cycle_id = None\n",
    "\n",
    "    def _reset(self):\n",
    "        \"\"\"\n",
    "        Reset the callback.\n",
    "        \"\"\"\n",
    "        self.clr_iterations = 0.\n",
    "        self.history = {}\n",
    "\n",
    "    def compute_lr(self):\n",
    "        \"\"\"\n",
    "        Compute the learning rate based on which phase of the cycle it is in.\n",
    "        - If in the first half of training, the learning rate gradually increases.\n",
    "        - If in the second half of training, the learning rate gradually decreases.\n",
    "        - If in the final `end_percentage` portion of training, the learning rate\n",
    "            is quickly reduced to near 100th of the original min learning rate.\n",
    "        # Returns:\n",
    "            the new learning rate\n",
    "        \"\"\"\n",
    "        new_lr = min_max_scaler(self.clr_iterations, self.num_iterations, self.end_percentage, self.initial_lr/self.scale, self.initial_lr, invert = False, triangle_tilt=triangle_tilt)\n",
    "        return new_lr\n",
    "\n",
    "    def compute_momentum(self):\n",
    "        \"\"\"\n",
    "         Compute the momentum based on which phase of the cycle it is in.\n",
    "        - If in the first half of training, the momentum gradually decreases.\n",
    "        - If in the second half of training, the momentum gradually increases.\n",
    "        - If in the final `end_percentage` portion of training, the momentum value\n",
    "            is kept constant at the maximum initial value.\n",
    "        # Returns:\n",
    "            the new momentum value\n",
    "        \"\"\"    \n",
    "        new_momentum = min_max_scaler(self.clr_iterations, self.num_iterations, self.end_percentage, self.min_momentum, self.max_momentum, invert = True, triangle_tilt=triangle_tilt)\n",
    "        return new_momentum\n",
    "\n",
    "    def on_train_begin(self, logs={}):\n",
    "        logs = logs or {}\n",
    "\n",
    "        if self.steps is not None:\n",
    "            self.num_iterations = self.epochs * self.steps\n",
    "        else:\n",
    "            if (self.samples % self.batch_size) == 0:\n",
    "                remainder = 0\n",
    "            else:\n",
    "                remainder = 1\n",
    "            self.num_iterations = (self.epochs + remainder) * self.samples // self.batch_size\n",
    "\n",
    "        self.mid_cycle_id = int(self.num_iterations * ((1. - self.end_percentage)) / float(2))\n",
    "\n",
    "        self._reset()\n",
    "        K.set_value(self.model.optimizer.lr, self.compute_lr())\n",
    "\n",
    "        if self._update_momentum:\n",
    "            if not hasattr(self.model.optimizer, 'momentum'):\n",
    "                raise ValueError(\"Momentum can be updated only on SGD optimizer !\")\n",
    "\n",
    "            new_momentum = self.compute_momentum()\n",
    "            K.set_value(self.model.optimizer.momentum, new_momentum)\n",
    "\n",
    "    def on_batch_end(self, epoch, logs=None):\n",
    "        logs = logs or {}\n",
    "\n",
    "        self.clr_iterations += 1\n",
    "        new_lr = self.compute_lr()\n",
    "\n",
    "        self.history.setdefault('lr', []).append(\n",
    "            K.get_value(self.model.optimizer.lr))\n",
    "        K.set_value(self.model.optimizer.lr, new_lr)\n",
    "\n",
    "        if self._update_momentum:\n",
    "            if not hasattr(self.model.optimizer, 'momentum'):\n",
    "                raise ValueError(\"Momentum can be updated only on SGD optimizer !\")\n",
    "\n",
    "            new_momentum = self.compute_momentum()\n",
    "\n",
    "            self.history.setdefault('momentum', []).append(\n",
    "                K.get_value(self.model.optimizer.momentum))\n",
    "            K.set_value(self.model.optimizer.momentum, new_momentum)\n",
    "\n",
    "        for k, v in logs.items():\n",
    "            self.history.setdefault(k, []).append(v)\n",
    "\n",
    "    def on_epoch_end(self, epoch, logs=None):\n",
    "        if self.verbose:\n",
    "            if self._update_momentum:\n",
    "                print(\" - lr: %0.5f - momentum: %0.2f \" %\n",
    "                      (self.history['lr'][-1], self.history['momentum'][-1]))\n",
    "\n",
    "            else:\n",
    "                print(\" - lr: %0.5f \" % (self.history['lr'][-1]))\n",
    "                \n",
    "    \n",
    "    def plot(self):\n",
    "        plt.title(\"LR-Plot\")\n",
    "        plt.plot(self.history['lr'])\n",
    "        plt.xlabel(\"Epochs\")\n",
    "        plt.ylabel(\"LR\")\n",
    "        plt.show()\n",
    "        \n",
    "        plt.title(\"Momentum-Plot\")\n",
    "        plt.plot(self.history['momentum'])\n",
    "        plt.xlabel(\"Epochs\")\n",
    "        plt.ylabel(\"Momentum\")\n",
    "        plt.show()"
   ]
  },
  {
   "cell_type": "markdown",
   "metadata": {
    "colab_type": "text",
    "id": "ITkvgtgP5Gjt"
   },
   "source": [
    "#One Cycle LR"
   ]
  },
  {
   "cell_type": "code",
   "execution_count": 18,
   "metadata": {
    "colab": {},
    "colab_type": "code",
    "id": "-NblM6VSGBNm"
   },
   "outputs": [],
   "source": [
    "olr = OneCycleLR(epochs=24, batch_size = batch_size,steps=98, \n",
    "                 samples=X_train.shape[0], max_lr=0.6, verbose = True, scale = 50, end_percentage=0.1,\n",
    "                 maximum_momentum = 0.95, minimum_momentum=0.85, triangle_tilt=0.75)"
   ]
  },
  {
   "cell_type": "code",
   "execution_count": 19,
   "metadata": {
    "colab": {},
    "colab_type": "code",
    "id": "YWaEbb0BlBK_"
   },
   "outputs": [],
   "source": [
    "sgd = tf.keras.optimizers.SGD(lr=0.08, decay=5e-4, momentum=0.9, nesterov=True)\n",
    "\n",
    "# Compile the model\n",
    "model.compile(optimizer=sgd, loss='categorical_crossentropy', metrics=['accuracy'])"
   ]
  },
  {
   "cell_type": "markdown",
   "metadata": {
    "colab_type": "text",
    "id": "ldAyybd45OkJ"
   },
   "source": [
    "#Reading the HDF5 file of Augmented Images"
   ]
  },
  {
   "cell_type": "code",
   "execution_count": 20,
   "metadata": {
    "colab": {},
    "colab_type": "code",
    "id": "KsdzrKXZglo8"
   },
   "outputs": [],
   "source": [
    "data = tf.keras.utils.HDF5Matrix('./aug_img.hdf5','dataset')\n",
    "label = tf.keras.utils.HDF5Matrix('./aug_img.hdf5','labels')\n",
    "\n",
    "# f = h5py.File('aug_img.hdf5', 'r')\n",
    "# data = f['dataset'][:]\n",
    "# label = f['labels'][:]\n",
    "# f.close()"
   ]
  },
  {
   "cell_type": "markdown",
   "metadata": {
    "colab_type": "text",
    "id": "30N0gOJz5ZAY"
   },
   "source": [
    "#Custom Data Generator \n",
    "\n",
    "It picks Half of batch from Augmented images and other half from \n",
    "\n",
    "Original Images."
   ]
  },
  {
   "cell_type": "code",
   "execution_count": 21,
   "metadata": {
    "colab": {},
    "colab_type": "code",
    "id": "4teA41AsgUid"
   },
   "outputs": [],
   "source": [
    "import numpy as np\n",
    "#import keras\n",
    "import random\n",
    "class DataGenerator(tf.keras.utils.Sequence):\n",
    "    'Generates data for Keras'\n",
    "    def __init__(self, data, label, train_features,train_labels, batch_size=512, dim=(32,32), n_channels=3,\n",
    "                 n_classes=10, shuffle=True):\n",
    "        'Initialization'\n",
    "        self.dim = dim\n",
    "        self.batch_size = batch_size\n",
    "        self.label = label\n",
    "        self.data = data\n",
    "        self.n_channels = n_channels\n",
    "        self.n_classes = n_classes\n",
    "        self.shuffle = shuffle\n",
    "        self.train_features = train_features\n",
    "        self.train_labels = train_labels\n",
    "        self.on_epoch_end()\n",
    "\n",
    "    def __len__(self):\n",
    "        'Denotes the number of batches per epoch'\n",
    "        return int(np.floor(len(self.data) / self.batch_size))\n",
    "\n",
    "    def __getitem__(self, index):\n",
    "        'Generate one batch of data'\n",
    "        \n",
    "        # Generate indexes of the batch\n",
    "        #indexes = self.indexes[index*self.batch_size:(index+1)*self.batch_size]\n",
    "        aug_ran = random.randrange(0,len(self.data)-256)\n",
    "        wo_aug = random.randrange(0,len(self.train_features)-256)\n",
    "        #print(aug_ran)\n",
    "        train_data_aug = lambda i: (np.array(self.data[i:i+256]),np.array(self.label[i:i+256]))\n",
    "        train_data_wo = lambda i: (np.array(self.train_features[i:i+256]),np.array(self.train_labels[i:i+256]))\n",
    "        \n",
    "        \n",
    "        X = np.concatenate((train_data_aug(aug_ran)[0],train_data_wo(wo_aug)[0]),axis=0)\n",
    "        y = np.concatenate((train_data_aug(aug_ran)[1],train_data_wo(wo_aug)[1]),axis=0)\n",
    "        #print(\"label\",y.shape, \" \" ,X.shape)\n",
    "        #plt.imshow(X[0])\n",
    "        # Generate data\n",
    "        #X, y = self.__data_generation(list_IDs_temp)\n",
    "\n",
    "        return X, y\n",
    "\n",
    "    def on_epoch_end(self):\n",
    "        'Updates indexes after each epoch'\n",
    "        self.indexes = np.arange(len(self.data))\n",
    "        if self.shuffle == True:\n",
    "            np.random.shuffle(self.indexes)\n",
    "            \n",
    "gen = DataGenerator(data,label,train_features,train_labels,512)"
   ]
  },
  {
   "cell_type": "code",
   "execution_count": 22,
   "metadata": {
    "colab": {
     "base_uri": "https://localhost:8080/",
     "height": 1000
    },
    "colab_type": "code",
    "id": "HaDjaDz3szBx",
    "outputId": "59c9e4b9-11cd-49ef-e96d-c0da3b4e72e1"
   },
   "outputs": [
    {
     "name": "stdout",
     "output_type": "stream",
     "text": [
      "Epoch 1/24\n",
      "96/98 [============================>.] - ETA: 0s - loss: 1.6224 - acc: 0.4531 - lr: 0.08908 - momentum: 0.94 \n",
      "98/98 [==============================] - 10s 106ms/step - loss: 1.6151 - acc: 0.4562 - val_loss: 1.3745 - val_acc: 0.5565\n",
      "Epoch 2/24\n",
      "96/98 [============================>.] - ETA: 0s - loss: 1.1243 - acc: 0.6390 - lr: 0.16695 - momentum: 0.92 \n",
      "98/98 [==============================] - 5s 50ms/step - loss: 1.1218 - acc: 0.6401 - val_loss: 1.3654 - val_acc: 0.6007\n",
      "Epoch 3/24\n",
      "96/98 [============================>.] - ETA: 0s - loss: 0.9232 - acc: 0.7179 - lr: 0.24482 - momentum: 0.91 \n",
      "98/98 [==============================] - 5s 50ms/step - loss: 0.9214 - acc: 0.7185 - val_loss: 0.9263 - val_acc: 0.7388\n",
      "Epoch 4/24\n",
      "97/98 [============================>.] - ETA: 0s - loss: 0.8302 - acc: 0.7566 - lr: 0.32269 - momentum: 0.90 \n",
      "98/98 [==============================] - 5s 50ms/step - loss: 0.8299 - acc: 0.7568 - val_loss: 0.9556 - val_acc: 0.7251\n",
      "Epoch 5/24\n",
      "97/98 [============================>.] - ETA: 0s - loss: 0.7778 - acc: 0.7787 - lr: 0.40056 - momentum: 0.88 \n",
      "98/98 [==============================] - 5s 49ms/step - loss: 0.7767 - acc: 0.7789 - val_loss: 0.8052 - val_acc: 0.7885\n",
      "Epoch 6/24\n",
      "96/98 [============================>.] - ETA: 0s - loss: 0.7245 - acc: 0.8028 - lr: 0.47843 - momentum: 0.87 \n",
      "98/98 [==============================] - 5s 50ms/step - loss: 0.7240 - acc: 0.8030 - val_loss: 0.9380 - val_acc: 0.7564\n",
      "Epoch 7/24\n",
      "97/98 [============================>.] - ETA: 0s - loss: 0.6773 - acc: 0.8215 - lr: 0.55630 - momentum: 0.86 \n",
      "98/98 [==============================] - 5s 49ms/step - loss: 0.6767 - acc: 0.8217 - val_loss: 0.8936 - val_acc: 0.7710\n",
      "Epoch 8/24\n",
      "96/98 [============================>.] - ETA: 0s - loss: 0.6499 - acc: 0.8316 - lr: 0.58162 - momentum: 0.85 \n",
      "98/98 [==============================] - 5s 50ms/step - loss: 0.6499 - acc: 0.8315 - val_loss: 0.8669 - val_acc: 0.7943\n",
      "Epoch 9/24\n",
      "97/98 [============================>.] - ETA: 0s - loss: 0.6035 - acc: 0.8520 - lr: 0.53975 - momentum: 0.86 \n",
      "98/98 [==============================] - 5s 50ms/step - loss: 0.6036 - acc: 0.8520 - val_loss: 0.6994 - val_acc: 0.8347\n",
      "Epoch 10/24\n",
      "97/98 [============================>.] - ETA: 0s - loss: 0.5764 - acc: 0.8604 - lr: 0.49787 - momentum: 0.87 \n",
      "98/98 [==============================] - 5s 50ms/step - loss: 0.5772 - acc: 0.8601 - val_loss: 0.6574 - val_acc: 0.8456\n",
      "Epoch 11/24\n",
      "97/98 [============================>.] - ETA: 0s - loss: 0.5409 - acc: 0.8753 - lr: 0.45599 - momentum: 0.87 \n",
      "98/98 [==============================] - 5s 49ms/step - loss: 0.5400 - acc: 0.8757 - val_loss: 0.7038 - val_acc: 0.8353\n",
      "Epoch 12/24\n",
      "96/98 [============================>.] - ETA: 0s - loss: 0.5303 - acc: 0.8781 - lr: 0.41411 - momentum: 0.88 \n",
      "98/98 [==============================] - 5s 50ms/step - loss: 0.5309 - acc: 0.8781 - val_loss: 0.6456 - val_acc: 0.8489\n",
      "Epoch 13/24\n",
      "96/98 [============================>.] - ETA: 0s - loss: 0.4898 - acc: 0.8921 - lr: 0.37224 - momentum: 0.89 \n",
      "98/98 [==============================] - 5s 50ms/step - loss: 0.4895 - acc: 0.8921 - val_loss: 0.7045 - val_acc: 0.8369\n",
      "Epoch 14/24\n",
      "97/98 [============================>.] - ETA: 0s - loss: 0.4775 - acc: 0.8966 - lr: 0.33036 - momentum: 0.90 \n",
      "98/98 [==============================] - 5s 50ms/step - loss: 0.4777 - acc: 0.8964 - val_loss: 0.6525 - val_acc: 0.8512\n",
      "Epoch 15/24\n",
      "97/98 [============================>.] - ETA: 0s - loss: 0.4502 - acc: 0.9078 - lr: 0.28848 - momentum: 0.90 \n",
      "98/98 [==============================] - 5s 50ms/step - loss: 0.4492 - acc: 0.9081 - val_loss: 0.6428 - val_acc: 0.8513\n",
      "Epoch 16/24\n",
      "97/98 [============================>.] - ETA: 0s - loss: 0.4382 - acc: 0.9096 - lr: 0.24660 - momentum: 0.91 \n",
      "98/98 [==============================] - 5s 50ms/step - loss: 0.4386 - acc: 0.9095 - val_loss: 0.5789 - val_acc: 0.8773\n",
      "Epoch 17/24\n",
      "97/98 [============================>.] - ETA: 0s - loss: 0.4135 - acc: 0.9178 - lr: 0.20472 - momentum: 0.92 \n",
      "98/98 [==============================] - 5s 50ms/step - loss: 0.4137 - acc: 0.9177 - val_loss: 0.5776 - val_acc: 0.8794\n",
      "Epoch 18/24\n",
      "96/98 [============================>.] - ETA: 0s - loss: 0.3874 - acc: 0.9270 - lr: 0.16285 - momentum: 0.92 \n",
      "98/98 [==============================] - 5s 50ms/step - loss: 0.3861 - acc: 0.9274 - val_loss: 0.5626 - val_acc: 0.8803\n",
      "Epoch 19/24\n",
      "97/98 [============================>.] - ETA: 0s - loss: 0.3691 - acc: 0.9317 - lr: 0.12097 - momentum: 0.93 \n",
      "98/98 [==============================] - 5s 49ms/step - loss: 0.3686 - acc: 0.9319 - val_loss: 0.5157 - val_acc: 0.8936\n",
      "Epoch 20/24\n",
      "97/98 [============================>.] - ETA: 0s - loss: 0.3394 - acc: 0.9427 - lr: 0.07909 - momentum: 0.94 \n",
      "98/98 [==============================] - 5s 49ms/step - loss: 0.3388 - acc: 0.9429 - val_loss: 0.5052 - val_acc: 0.8981\n",
      "Epoch 21/24\n",
      "97/98 [============================>.] - ETA: 0s - loss: 0.3094 - acc: 0.9520 - lr: 0.03721 - momentum: 0.95 \n",
      "98/98 [==============================] - 5s 50ms/step - loss: 0.3093 - acc: 0.9520 - val_loss: 0.5004 - val_acc: 0.8992\n",
      "Epoch 22/24\n",
      "97/98 [============================>.] - ETA: 0s - loss: 0.2975 - acc: 0.9563 - lr: 0.01022 - momentum: 0.95 \n",
      "98/98 [==============================] - 5s 51ms/step - loss: 0.2970 - acc: 0.9566 - val_loss: 0.4718 - val_acc: 0.9074\n",
      "Epoch 23/24\n",
      "96/98 [============================>.] - ETA: 0s - loss: 0.2811 - acc: 0.9610 - lr: 0.00573 - momentum: 0.95 \n",
      "98/98 [==============================] - 5s 50ms/step - loss: 0.2809 - acc: 0.9609 - val_loss: 0.4672 - val_acc: 0.9090\n",
      "Epoch 24/24\n",
      "97/98 [============================>.] - ETA: 0s - loss: 0.2760 - acc: 0.9632 - lr: 0.00125 - momentum: 0.95 \n",
      "98/98 [==============================] - 5s 51ms/step - loss: 0.2762 - acc: 0.9631 - val_loss: 0.4649 - val_acc: 0.9088\n",
      "Model took 124.49 seconds to train\n"
     ]
    }
   ],
   "source": [
    "# train the model\n",
    "start = time.time()\n",
    "# Train the model\n",
    "\n",
    "model_info = model.fit_generator(gen,\n",
    "                                 steps_per_epoch = 98, epochs = 24, \n",
    "                                 validation_data = validation_iterator, \n",
    "                                 validation_steps = len(validation_iterator),\n",
    "                                 verbose=1, callbacks=[olr])\n",
    "end = time.time()\n",
    "print (\"Model took %0.2f seconds to train\"%(end - start))\n",
    "# plot model history\n",
    "# plot_model_history(model_info)"
   ]
  },
  {
   "cell_type": "code",
   "execution_count": 23,
   "metadata": {
    "colab": {
     "base_uri": "https://localhost:8080/",
     "height": 34
    },
    "colab_type": "code",
    "id": "cgwIhCP8pe5_",
    "outputId": "a697fc72-5367-4d5b-be68-e91098c273b0"
   },
   "outputs": [
    {
     "name": "stdout",
     "output_type": "stream",
     "text": [
      "[0.4648878753185272, 0.9088]\n"
     ]
    }
   ],
   "source": [
    "# compute test accuracy\n",
    "result = model.evaluate_generator(validation_iterator, steps = len(validation_iterator))\n",
    "print(result)"
   ]
  },
  {
   "cell_type": "code",
   "execution_count": null,
   "metadata": {
    "colab": {},
    "colab_type": "code",
    "id": "MqO7tjSmEsfL"
   },
   "outputs": [],
   "source": []
  }
 ],
 "metadata": {
  "accelerator": "GPU",
  "colab": {
   "collapsed_sections": [],
   "machine_shape": "hm",
   "name": "Assignemnt-14",
   "provenance": [],
   "version": "0.3.2"
  },
  "kernelspec": {
   "display_name": "Python 3",
   "language": "python",
   "name": "python3"
  },
  "language_info": {
   "codemirror_mode": {
    "name": "ipython",
    "version": 3
   },
   "file_extension": ".py",
   "mimetype": "text/x-python",
   "name": "python",
   "nbconvert_exporter": "python",
   "pygments_lexer": "ipython3",
   "version": "3.6.8"
  }
 },
 "nbformat": 4,
 "nbformat_minor": 1
}
